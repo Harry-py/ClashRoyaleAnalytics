{
  "nbformat": 4,
  "nbformat_minor": 0,
  "metadata": {
    "colab": {
      "name": "Clash_modeling.ipynb",
      "provenance": [],
      "collapsed_sections": []
    },
    "kernelspec": {
      "name": "python3",
      "display_name": "Python 3"
    },
    "language_info": {
      "name": "python"
    }
  },
  "cells": [
    {
      "cell_type": "code",
      "execution_count": 1,
      "metadata": {
        "id": "AQ_TEq8C_QKk"
      },
      "outputs": [],
      "source": [
        "import pandas as pd\n",
        "import numpy as np\n",
        "from scipy import stats\n",
        "from matplotlib import pyplot as plt\n",
        "import seaborn as sns"
      ]
    },
    {
      "cell_type": "code",
      "source": [
        "from sklearn import model_selection\n",
        "from sklearn.model_selection import train_test_split\n",
        "from sklearn.model_selection import cross_val_score\n",
        "from sklearn.metrics import classification_report, confusion_matrix\n",
        "from sklearn.datasets import make_classification\n",
        "from sklearn.model_selection import RepeatedStratifiedKFold\n",
        "from sklearn.feature_selection import RFE\n",
        "from sklearn.pipeline import Pipeline\n",
        "from sklearn.model_selection import GridSearchCV\n",
        "from sklearn.preprocessing import MinMaxScaler\n",
        "from sklearn.metrics import roc_curve\n",
        "from sklearn import metrics"
      ],
      "metadata": {
        "id": "obq3dR-3MyVb"
      },
      "execution_count": 2,
      "outputs": []
    },
    {
      "cell_type": "code",
      "source": [
        "from sklearn.linear_model import LogisticRegression\n",
        "from sklearn.ensemble import RandomForestClassifier\n",
        "from sklearn.tree import DecisionTreeClassifier\n",
        "from sklearn.svm import SVC\n",
        "from sklearn.neighbors import KNeighborsClassifier\n",
        "from sklearn.naive_bayes import GaussianNB\n",
        "import xgboost as xgb"
      ],
      "metadata": {
        "id": "xq-7fSZzAmQe"
      },
      "execution_count": 3,
      "outputs": []
    },
    {
      "cell_type": "code",
      "source": [
        "from google.colab import drive\n",
        "drive.mount('/content/drive')"
      ],
      "metadata": {
        "colab": {
          "base_uri": "https://localhost:8080/"
        },
        "id": "haT5vSQY_oyW",
        "outputId": "2e46e932-ee23-4e9a-a6ed-2046533ab39e"
      },
      "execution_count": 5,
      "outputs": [
        {
          "output_type": "stream",
          "name": "stdout",
          "text": [
            "Mounted at /content/drive\n"
          ]
        }
      ]
    },
    {
      "cell_type": "code",
      "source": [
        "df = pd.read_csv('/content/drive/My Drive/clash/clash_data_consolidated.csv')"
      ],
      "metadata": {
        "id": "Geu8ahpU_pCr"
      },
      "execution_count": 6,
      "outputs": []
    },
    {
      "cell_type": "code",
      "source": [
        "df = df.dropna()"
      ],
      "metadata": {
        "id": "gzZLzXpW_ted"
      },
      "execution_count": 7,
      "outputs": []
    },
    {
      "cell_type": "code",
      "source": [
        "win_sample_df = df.loc[df['won']==1].sample(n=5000,random_state=42)\n",
        "lose_sample_df = df.loc[df['won']==0].sample(n=5000,random_state=42)\n",
        "sample_df = pd.concat([win_sample_df,lose_sample_df])"
      ],
      "metadata": {
        "id": "Bz1Vnmxo_xRP"
      },
      "execution_count": null,
      "outputs": []
    },
    {
      "cell_type": "code",
      "source": [
        "import ast\n",
        "\n",
        "sample_df['cards2_dict'] = sample_df['cards2_dict'].apply(lambda x: ast.literal_eval(x))\n",
        "sample_df['deck2'] = sample_df['cards2_dict'].apply(lambda x: [a['name'] for a in x])\n",
        "\n",
        "sample_df['cards1_dict'] = sample_df['cards1'].apply(lambda x: ast.literal_eval(x))\n",
        "sample_df['deck1'] = sample_df['cards1_dict'].apply(lambda x: [a['name'] for a in x])\n",
        "\n",
        "def merge(list1, list2):\n",
        "  merged_list = [(list1[i], list2[i]) for i in range(len(list1))]\n",
        "  return merged_list\n",
        "\n",
        "sample_df['max_level_1'] = sample_df['cards1_dict'].apply(lambda x: [a['maxLevel'] for a in x])\n",
        "sample_df['level_1'] = sample_df['cards1_dict'].apply(lambda x: [a['level'] for a in x])\n",
        "sample_df['cards_level_1'] = [[x-y+14 for x,y in merge(sample_df['level_1'].iloc[i],sample_df['max_level_1'].iloc[i])] for i in range(len(sample_df))]\n",
        "sample_df['avg_cards_level_1'] = [sum(x)/8 for x in sample_df['cards_level_1']]\n",
        "\n",
        "sample_df['max_level_2'] = sample_df['cards2_dict'].apply(lambda x: [a['maxLevel'] for a in x])\n",
        "sample_df['level_2'] = sample_df['cards2_dict'].apply(lambda x: [a['level'] for a in x])\n",
        "sample_df['cards_level_2'] = [[x-y+14 for x,y in merge(sample_df['level_2'].iloc[i],sample_df['max_level_2'].iloc[i])] for i in range(len(sample_df))]\n",
        "sample_df['avg_cards_level_2'] = [sum(x)/8 for x in sample_df['cards_level_2']]\n",
        "\n",
        "sample_df['crowns_won'] = sample_df['crowns2'] - sample_df['crowns1']\n",
        "sample_df['2_won'] = 0\n",
        "sample_df['2_won'].loc[sample_df['crowns_won']>0] = 1\n",
        "sample_df['2_won'].loc[sample_df['crowns_won']<0] = 0\n",
        "\n",
        "sample_df.drop(['won','crowns_won','crowns1','crowns2','cards1','cards2','cards1_dict','cards2_dict','max_level_1'\\\n",
        "                ,'max_level_2','level_1','level_2','cards_level_1','cards_level_2','Unnamed: 0'],axis=1,inplace=True)"
      ],
      "metadata": {
        "colab": {
          "base_uri": "https://localhost:8080/"
        },
        "id": "fsGPC4p4_xO4",
        "outputId": "de37a632-eba2-49b9-d037-31e7f7b8d6a8"
      },
      "execution_count": null,
      "outputs": [
        {
          "output_type": "stream",
          "name": "stderr",
          "text": [
            "/usr/local/lib/python3.7/dist-packages/pandas/core/indexing.py:1732: SettingWithCopyWarning: \n",
            "A value is trying to be set on a copy of a slice from a DataFrame\n",
            "\n",
            "See the caveats in the documentation: https://pandas.pydata.org/pandas-docs/stable/user_guide/indexing.html#returning-a-view-versus-a-copy\n",
            "  self._setitem_single_block(indexer, value, name)\n"
          ]
        }
      ]
    },
    {
      "cell_type": "code",
      "source": [
        "stats_df = pd.read_excel('/content/drive/My Drive/clash/card_stats.xlsx')\n",
        "stats_df.drop(['Unnamed: 0'],axis=1,inplace=True)"
      ],
      "metadata": {
        "id": "giaGSpny_xMe"
      },
      "execution_count": null,
      "outputs": []
    },
    {
      "cell_type": "code",
      "source": [
        "def how_many_A_in_B(list1,list2):\n",
        "  count=0\n",
        "  for item in list1:\n",
        "    if item in list2:\n",
        "      count+=1\n",
        "  return count"
      ],
      "metadata": {
        "id": "cDLU_jXF_w3I"
      },
      "execution_count": null,
      "outputs": []
    },
    {
      "cell_type": "code",
      "source": [
        "for card_type in list(stats_df['Detailed Cat.'].unique()):\n",
        "  sample_df[card_type+'1'] = sample_df['deck1'].apply(lambda x: how_many_A_in_B(x,list(stats_df['Card'].loc[stats_df['Detailed Cat.']==card_type])))\n",
        "for card_type in list(stats_df['Detailed Cat.'].unique()):\n",
        "  sample_df[card_type+'2'] = sample_df['deck2'].apply(lambda x: how_many_A_in_B(x,list(stats_df['Card'].loc[stats_df['Detailed Cat.']==card_type])))"
      ],
      "metadata": {
        "id": "9XCgYkgsBOcv"
      },
      "execution_count": null,
      "outputs": []
    },
    {
      "cell_type": "code",
      "source": [
        "def eval_result(y_test,y_pred,cv_score,model_name,metric):\n",
        "  print(\"=== Confusion Matrix ===\")\n",
        "  print(confusion_matrix(y_test, y_pred))\n",
        "  print('\\n')\n",
        "  print(\"=== Classification Report ===\")\n",
        "  print(classification_report(y_test, y_pred))\n",
        "  print('\\n')\n",
        "  print(\"=== All \"+metric+\" Scores ===\")\n",
        "  print(cv_score)\n",
        "  print('\\n')\n",
        "  print(\"=== Mean \"+metric+\" Score ===\")\n",
        "  print(\"Mean \"+metric+\" Score - \"+model_name+\": \", cv_score.mean())"
      ],
      "metadata": {
        "id": "Q34uQS3GM7mb"
      },
      "execution_count": 18,
      "outputs": []
    },
    {
      "cell_type": "code",
      "source": [
        "X = sample_df.drop(['startingTrophies2','deck1','deck2','2_won'],axis=1)\n",
        "y = sample_df[['2_won']]\n",
        "\n",
        "\n",
        "X_train, X_test, y_train, y_test = train_test_split(X, y, test_size=0.3, random_state=42)\n",
        "\n",
        "rfc = RandomForestClassifier()\n",
        "rfc.fit(X_train,y_train)\n",
        "# predictions\n",
        "y_pred = rfc.predict(X_test)\n",
        "\n",
        "rfc_cv_score = cross_val_score(rfc, X, y, cv=9, scoring='roc_auc')\n",
        "\n",
        "eval_result(y_test,y_pred,rfc_cv_score,'RF','AUC')"
      ],
      "metadata": {
        "id": "9Z-mVPGlBOXz"
      },
      "execution_count": null,
      "outputs": []
    },
    {
      "cell_type": "code",
      "source": [
        "high = sample_df.loc[(sample_df['startingTrophies2']>5500)&(sample_df['startingTrophies2']<7000)]\n",
        "print(\"Population ratio:\"+str(len(high)/len(sample_df)))\n",
        "X = high.drop(['startingTrophies2','deck1','deck2','2_won'],axis=1)\n",
        "y = high[['2_won']]\n",
        "\n",
        "\n",
        "X_train, X_test, y_train, y_test = train_test_split(X, y, test_size=0.3, random_state=42)\n",
        "\n",
        "rfc = RandomForestClassifier()\n",
        "rfc.fit(X_train,y_train)\n",
        "# predictions\n",
        "y_pred = rfc.predict(X_test)\n",
        "\n",
        "rfc_cv_score = cross_val_score(rfc, X, y, cv=9, scoring='roc_auc')\n",
        "\n",
        "eval_result(y_test,y_pred,rfc_cv_score,'RF','AUC')"
      ],
      "metadata": {
        "colab": {
          "base_uri": "https://localhost:8080/"
        },
        "id": "DbE4TMDhBOVf",
        "outputId": "c82cf9c8-fcd4-47eb-8fbb-e549557d567a"
      },
      "execution_count": null,
      "outputs": [
        {
          "output_type": "stream",
          "name": "stdout",
          "text": [
            "Population ratio:0.5\n"
          ]
        },
        {
          "output_type": "stream",
          "name": "stderr",
          "text": [
            "/usr/local/lib/python3.7/dist-packages/ipykernel_launcher.py:10: DataConversionWarning: A column-vector y was passed when a 1d array was expected. Please change the shape of y to (n_samples,), for example using ravel().\n",
            "  # Remove the CWD from sys.path while we load stuff.\n",
            "/usr/local/lib/python3.7/dist-packages/sklearn/model_selection/_validation.py:680: DataConversionWarning: A column-vector y was passed when a 1d array was expected. Please change the shape of y to (n_samples,), for example using ravel().\n",
            "  estimator.fit(X_train, y_train, **fit_params)\n",
            "/usr/local/lib/python3.7/dist-packages/sklearn/model_selection/_validation.py:680: DataConversionWarning: A column-vector y was passed when a 1d array was expected. Please change the shape of y to (n_samples,), for example using ravel().\n",
            "  estimator.fit(X_train, y_train, **fit_params)\n",
            "/usr/local/lib/python3.7/dist-packages/sklearn/model_selection/_validation.py:680: DataConversionWarning: A column-vector y was passed when a 1d array was expected. Please change the shape of y to (n_samples,), for example using ravel().\n",
            "  estimator.fit(X_train, y_train, **fit_params)\n",
            "/usr/local/lib/python3.7/dist-packages/sklearn/model_selection/_validation.py:680: DataConversionWarning: A column-vector y was passed when a 1d array was expected. Please change the shape of y to (n_samples,), for example using ravel().\n",
            "  estimator.fit(X_train, y_train, **fit_params)\n",
            "/usr/local/lib/python3.7/dist-packages/sklearn/model_selection/_validation.py:680: DataConversionWarning: A column-vector y was passed when a 1d array was expected. Please change the shape of y to (n_samples,), for example using ravel().\n",
            "  estimator.fit(X_train, y_train, **fit_params)\n",
            "/usr/local/lib/python3.7/dist-packages/sklearn/model_selection/_validation.py:680: DataConversionWarning: A column-vector y was passed when a 1d array was expected. Please change the shape of y to (n_samples,), for example using ravel().\n",
            "  estimator.fit(X_train, y_train, **fit_params)\n",
            "/usr/local/lib/python3.7/dist-packages/sklearn/model_selection/_validation.py:680: DataConversionWarning: A column-vector y was passed when a 1d array was expected. Please change the shape of y to (n_samples,), for example using ravel().\n",
            "  estimator.fit(X_train, y_train, **fit_params)\n",
            "/usr/local/lib/python3.7/dist-packages/sklearn/model_selection/_validation.py:680: DataConversionWarning: A column-vector y was passed when a 1d array was expected. Please change the shape of y to (n_samples,), for example using ravel().\n",
            "  estimator.fit(X_train, y_train, **fit_params)\n",
            "/usr/local/lib/python3.7/dist-packages/sklearn/model_selection/_validation.py:680: DataConversionWarning: A column-vector y was passed when a 1d array was expected. Please change the shape of y to (n_samples,), for example using ravel().\n",
            "  estimator.fit(X_train, y_train, **fit_params)\n"
          ]
        },
        {
          "output_type": "stream",
          "name": "stdout",
          "text": [
            "=== Confusion Matrix ===\n",
            "[[403 332]\n",
            " [377 388]]\n",
            "\n",
            "\n",
            "=== Classification Report ===\n",
            "              precision    recall  f1-score   support\n",
            "\n",
            "           0       0.52      0.55      0.53       735\n",
            "           1       0.54      0.51      0.52       765\n",
            "\n",
            "    accuracy                           0.53      1500\n",
            "   macro avg       0.53      0.53      0.53      1500\n",
            "weighted avg       0.53      0.53      0.53      1500\n",
            "\n",
            "\n",
            "\n",
            "=== All AUC Scores ===\n",
            "[0.56655409 0.52739389 0.56697723 0.53324922 0.54402174 0.54154979\n",
            " 0.55054932 0.56857436 0.51100592]\n",
            "\n",
            "\n",
            "=== Mean AUC Score ===\n",
            "Mean AUC Score - RF:  0.5455417297134009\n"
          ]
        }
      ]
    },
    {
      "cell_type": "code",
      "source": [
        "mid = sample_df.loc[(sample_df['startingTrophies2']<5500) & (sample_df['startingTrophies2']>3500)]\n",
        "print(\"Population ratio:\"+str(len(mid)/len(sample_df)))\n",
        "X = mid.drop(['startingTrophies2','deck1','deck2','2_won'],axis=1)\n",
        "y = mid[['2_won']]\n",
        "\n",
        "\n",
        "X_train, X_test, y_train, y_test = train_test_split(X, y, test_size=0.3, random_state=42)\n",
        "\n",
        "rfc = RandomForestClassifier()\n",
        "rfc.fit(X_train,y_train)\n",
        "# predictions\n",
        "y_pred = rfc.predict(X_test)\n",
        "\n",
        "rfc_cv_score = cross_val_score(rfc, X, y, cv=9, scoring='roc_auc')\n",
        "\n",
        "eval_result(y_test,y_pred,rfc_cv_score,'RF','AUC')"
      ],
      "metadata": {
        "colab": {
          "base_uri": "https://localhost:8080/"
        },
        "id": "OdCH4a06BOTB",
        "outputId": "c4287e2d-9844-4b99-a22f-b7f61a0c402d"
      },
      "execution_count": null,
      "outputs": [
        {
          "output_type": "stream",
          "name": "stdout",
          "text": [
            "Population ratio:0.4116\n"
          ]
        },
        {
          "output_type": "stream",
          "name": "stderr",
          "text": [
            "/usr/local/lib/python3.7/dist-packages/ipykernel_launcher.py:10: DataConversionWarning: A column-vector y was passed when a 1d array was expected. Please change the shape of y to (n_samples,), for example using ravel().\n",
            "  # Remove the CWD from sys.path while we load stuff.\n",
            "/usr/local/lib/python3.7/dist-packages/sklearn/model_selection/_validation.py:680: DataConversionWarning: A column-vector y was passed when a 1d array was expected. Please change the shape of y to (n_samples,), for example using ravel().\n",
            "  estimator.fit(X_train, y_train, **fit_params)\n",
            "/usr/local/lib/python3.7/dist-packages/sklearn/model_selection/_validation.py:680: DataConversionWarning: A column-vector y was passed when a 1d array was expected. Please change the shape of y to (n_samples,), for example using ravel().\n",
            "  estimator.fit(X_train, y_train, **fit_params)\n",
            "/usr/local/lib/python3.7/dist-packages/sklearn/model_selection/_validation.py:680: DataConversionWarning: A column-vector y was passed when a 1d array was expected. Please change the shape of y to (n_samples,), for example using ravel().\n",
            "  estimator.fit(X_train, y_train, **fit_params)\n",
            "/usr/local/lib/python3.7/dist-packages/sklearn/model_selection/_validation.py:680: DataConversionWarning: A column-vector y was passed when a 1d array was expected. Please change the shape of y to (n_samples,), for example using ravel().\n",
            "  estimator.fit(X_train, y_train, **fit_params)\n",
            "/usr/local/lib/python3.7/dist-packages/sklearn/model_selection/_validation.py:680: DataConversionWarning: A column-vector y was passed when a 1d array was expected. Please change the shape of y to (n_samples,), for example using ravel().\n",
            "  estimator.fit(X_train, y_train, **fit_params)\n",
            "/usr/local/lib/python3.7/dist-packages/sklearn/model_selection/_validation.py:680: DataConversionWarning: A column-vector y was passed when a 1d array was expected. Please change the shape of y to (n_samples,), for example using ravel().\n",
            "  estimator.fit(X_train, y_train, **fit_params)\n",
            "/usr/local/lib/python3.7/dist-packages/sklearn/model_selection/_validation.py:680: DataConversionWarning: A column-vector y was passed when a 1d array was expected. Please change the shape of y to (n_samples,), for example using ravel().\n",
            "  estimator.fit(X_train, y_train, **fit_params)\n",
            "/usr/local/lib/python3.7/dist-packages/sklearn/model_selection/_validation.py:680: DataConversionWarning: A column-vector y was passed when a 1d array was expected. Please change the shape of y to (n_samples,), for example using ravel().\n",
            "  estimator.fit(X_train, y_train, **fit_params)\n",
            "/usr/local/lib/python3.7/dist-packages/sklearn/model_selection/_validation.py:680: DataConversionWarning: A column-vector y was passed when a 1d array was expected. Please change the shape of y to (n_samples,), for example using ravel().\n",
            "  estimator.fit(X_train, y_train, **fit_params)\n"
          ]
        },
        {
          "output_type": "stream",
          "name": "stdout",
          "text": [
            "=== Confusion Matrix ===\n",
            "[[370 219]\n",
            " [262 384]]\n",
            "\n",
            "\n",
            "=== Classification Report ===\n",
            "              precision    recall  f1-score   support\n",
            "\n",
            "           0       0.59      0.63      0.61       589\n",
            "           1       0.64      0.59      0.61       646\n",
            "\n",
            "    accuracy                           0.61      1235\n",
            "   macro avg       0.61      0.61      0.61      1235\n",
            "weighted avg       0.61      0.61      0.61      1235\n",
            "\n",
            "\n",
            "\n",
            "=== All AUC Scores ===\n",
            "[0.67715327 0.65254997 0.61322284 0.63453065 0.62385057 0.62748535\n",
            " 0.63382561 0.64282841 0.61557101]\n",
            "\n",
            "\n",
            "=== Mean AUC Score ===\n",
            "Mean AUC Score - RF:  0.6356686310944525\n"
          ]
        }
      ]
    },
    {
      "cell_type": "markdown",
      "source": [
        "## Modeling for Mid Trophies"
      ],
      "metadata": {
        "id": "eBbKY-cG--St"
      }
    },
    {
      "cell_type": "code",
      "source": [
        "win_sample_df = df.loc[(df['startingTrophies2']<5500) & (df['startingTrophies2']>3500) &(df['won']==1)].sample(n=5000,random_state=42)\n",
        "lose_sample_df = df.loc[(df['startingTrophies2']<5500) & (df['startingTrophies2']>3500) &(df['won']==0)].sample(n=5000,random_state=42)\n",
        "sample_df = pd.concat([win_sample_df,lose_sample_df])"
      ],
      "metadata": {
        "id": "z1vaEtInUXaP"
      },
      "execution_count": null,
      "outputs": []
    },
    {
      "cell_type": "code",
      "source": [
        "import ast\n",
        "\n",
        "sample_df['cards2_dict'] = sample_df['cards2_dict'].apply(lambda x: ast.literal_eval(x))\n",
        "sample_df['deck2'] = sample_df['cards2_dict'].apply(lambda x: [a['name'] for a in x])\n",
        "\n",
        "sample_df['cards1_dict'] = sample_df['cards1'].apply(lambda x: ast.literal_eval(x))\n",
        "sample_df['deck1'] = sample_df['cards1_dict'].apply(lambda x: [a['name'] for a in x])\n",
        "\n",
        "def merge(list1, list2):\n",
        "  merged_list = [(list1[i], list2[i]) for i in range(len(list1))]\n",
        "  return merged_list\n",
        "\n",
        "sample_df['max_level_1'] = sample_df['cards1_dict'].apply(lambda x: [a['maxLevel'] for a in x])\n",
        "sample_df['level_1'] = sample_df['cards1_dict'].apply(lambda x: [a['level'] for a in x])\n",
        "sample_df['cards_level_1'] = [[x-y+14 for x,y in merge(sample_df['level_1'].iloc[i],sample_df['max_level_1'].iloc[i])] for i in range(len(sample_df))]\n",
        "sample_df['avg_cards_level_1'] = [sum(x)/8 for x in sample_df['cards_level_1']]\n",
        "\n",
        "sample_df['max_level_2'] = sample_df['cards2_dict'].apply(lambda x: [a['maxLevel'] for a in x])\n",
        "sample_df['level_2'] = sample_df['cards2_dict'].apply(lambda x: [a['level'] for a in x])\n",
        "sample_df['cards_level_2'] = [[x-y+14 for x,y in merge(sample_df['level_2'].iloc[i],sample_df['max_level_2'].iloc[i])] for i in range(len(sample_df))]\n",
        "sample_df['avg_cards_level_2'] = [sum(x)/8 for x in sample_df['cards_level_2']]\n",
        "\n",
        "sample_df['crowns_won'] = sample_df['crowns2'] - sample_df['crowns1']\n",
        "sample_df['2_won'] = 0\n",
        "sample_df['2_won'].loc[sample_df['crowns_won']>0] = 1\n",
        "sample_df['2_won'].loc[sample_df['crowns_won']<0] = 0\n",
        "\n",
        "sample_df.drop(['won','crowns_won','crowns1','crowns2','cards1','cards2','cards1_dict','cards2_dict','max_level_1'\\\n",
        "                ,'max_level_2','level_1','level_2','cards_level_1','cards_level_2','Unnamed: 0'],axis=1,inplace=True)"
      ],
      "metadata": {
        "colab": {
          "base_uri": "https://localhost:8080/"
        },
        "id": "I_lBqvhvA0Pw",
        "outputId": "e65115b6-f7f9-4341-e5cd-9662a565dd9a"
      },
      "execution_count": null,
      "outputs": [
        {
          "output_type": "stream",
          "name": "stderr",
          "text": [
            "/usr/local/lib/python3.7/dist-packages/pandas/core/indexing.py:1732: SettingWithCopyWarning: \n",
            "A value is trying to be set on a copy of a slice from a DataFrame\n",
            "\n",
            "See the caveats in the documentation: https://pandas.pydata.org/pandas-docs/stable/user_guide/indexing.html#returning-a-view-versus-a-copy\n",
            "  self._setitem_single_block(indexer, value, name)\n"
          ]
        }
      ]
    },
    {
      "cell_type": "code",
      "source": [
        "for card_type in list(stats_df['Detailed Cat.'].unique()):\n",
        "  sample_df[card_type+'1'] = sample_df['deck1'].apply(lambda x: how_many_A_in_B(x,list(stats_df['Card'].loc[stats_df['Detailed Cat.']==card_type])))\n",
        "for card_type in list(stats_df['Detailed Cat.'].unique()):\n",
        "  sample_df[card_type+'2'] = sample_df['deck2'].apply(lambda x: how_many_A_in_B(x,list(stats_df['Card'].loc[stats_df['Detailed Cat.']==card_type])))"
      ],
      "metadata": {
        "id": "QX_3dRICA0NG"
      },
      "execution_count": null,
      "outputs": []
    },
    {
      "cell_type": "markdown",
      "source": [
        "# Encode Deck specs"
      ],
      "metadata": {
        "id": "r92nHJ-rBvou"
      }
    },
    {
      "cell_type": "code",
      "source": [
        "for spec in stats_df.drop(['category','Detailed Cat.'],axis=1).columns[1:].to_list():\n",
        "    sample_df[spec+'_1'] = sample_df['deck1'].apply(lambda x: sum(stats_df[spec].loc[stats_df['Card']==a].item() for a in x))\n",
        "\n",
        "for spec in stats_df.drop(['category','Detailed Cat.'],axis=1).columns[1:].to_list():\n",
        "    sample_df[spec+'_2'] = sample_df['deck2'].apply(lambda x: sum(stats_df[spec].loc[stats_df['Card']==a].item() for a in x))"
      ],
      "metadata": {
        "id": "aSM5FrUpB1Up"
      },
      "execution_count": null,
      "outputs": []
    },
    {
      "cell_type": "code",
      "source": [
        "troops_list = stats_df['Card'].loc[stats_df['category']=='Troop'].to_list()"
      ],
      "metadata": {
        "id": "YvY6wtStCIO9"
      },
      "execution_count": null,
      "outputs": []
    },
    {
      "cell_type": "code",
      "source": [
        "sample_df['Troop_num_1'] = sample_df['deck1'].apply(lambda x: how_many_A_in_B(x,troops_list))\n",
        "sample_df['Troop_num_2'] = sample_df['deck2'].apply(lambda x: how_many_A_in_B(x,troops_list))"
      ],
      "metadata": {
        "id": "_ize1Ax3CIME"
      },
      "execution_count": null,
      "outputs": []
    },
    {
      "cell_type": "code",
      "source": [
        "sample_df['attack_range_1'] = sample_df['attack_range_1']/sample_df['Troop_num_1']\n",
        "sample_df['attack_speed_1'] = sample_df['attack_speed_1']/sample_df['Troop_num_1']\n",
        "sample_df['speed_1'] = sample_df['speed_1']/sample_df['Troop_num_1']\n",
        "\n",
        "sample_df['attack_range_2'] = sample_df['attack_range_2']/sample_df['Troop_num_2']\n",
        "sample_df['attack_speed_2'] = sample_df['attack_speed_2']/sample_df['Troop_num_2']\n",
        "sample_df['speed_2'] = sample_df['speed_2']/sample_df['Troop_num_2']"
      ],
      "metadata": {
        "id": "j5Q4mUBFCIJr"
      },
      "execution_count": null,
      "outputs": []
    },
    {
      "cell_type": "code",
      "source": [
        "specs_of_deck = ['avg_cards_level','full_Range','attack_range','attack_radius','attack_speed',\\\n",
        "             'speed','instant_air_damage','instant_ground_damage','instant_tower_damage','individual_air_damage',\\\n",
        "             'individual_ground_damage','individual_tower_damage','aoe_air_damage','aoe_ground_damage',\\\n",
        "             'aoe_tower_damage','horde_air_damage','horde_ground_damage','horde_tower_damage','individual_hitpoint',\\\n",
        "             'horde_hitpoint','building_hitpoint','Special']"
      ],
      "metadata": {
        "id": "WpqRKLgDCIG9"
      },
      "execution_count": null,
      "outputs": []
    },
    {
      "cell_type": "code",
      "source": [
        "for spec in specs_of_deck:\n",
        "  sample_df[spec+'_diff'] = sample_df[spec+'_2'] - sample_df[spec+'_1']\n",
        "  sample_df.drop([(spec+'_1'),(spec+'_2')],axis=1,inplace=True)"
      ],
      "metadata": {
        "id": "qKa96ijeCSEX"
      },
      "execution_count": null,
      "outputs": []
    },
    {
      "cell_type": "code",
      "source": [
        "sample_df.to_csv('/content/drive/My Drive/clash/testing_data.csv')"
      ],
      "metadata": {
        "id": "HleXgI63GqiC"
      },
      "execution_count": null,
      "outputs": []
    },
    {
      "cell_type": "markdown",
      "source": [
        "# RFE"
      ],
      "metadata": {
        "id": "-jgl-ot5DW_x"
      }
    },
    {
      "cell_type": "code",
      "source": [
        "sample_df = pd.read_csv('/content/drive/My Drive/clash/testing_data.csv')"
      ],
      "metadata": {
        "id": "FgVfGYnNPjH_"
      },
      "execution_count": 8,
      "outputs": []
    },
    {
      "cell_type": "code",
      "source": [
        "sample_df.rename(columns={\"Unnamed: 0\": \"ID\"},inplace=True)"
      ],
      "metadata": {
        "id": "7hqzTrZKMR_j"
      },
      "execution_count": 9,
      "outputs": []
    },
    {
      "cell_type": "code",
      "source": [
        "sample_df1 = sample_df[['ID','2_won', 'Spirit1',\n",
        "       'Special1', 'Spell1', 'Melee1', 'Horde1', 'Barrack1', 'Defense Tower1',\n",
        "       'Offensive Tower1', 'Tank1', 'Horde tower charge1', 'Shooter1',\n",
        "       'Sky shooter1', 'Sky horde1', 'Fast tank1', 'Spawner1', 'Sky tank1',\n",
        "       'Mega melee1', 'Spirit2', 'Special2', 'Spell2', 'Melee2', 'Horde2',\n",
        "       'Barrack2', 'Defense Tower2', 'Offensive Tower2', 'Tank2',\n",
        "       'Horde tower charge2', 'Shooter2', 'Sky shooter2', 'Sky horde2',\n",
        "       'Fast tank2', 'Spawner2', 'Sky tank2', 'Mega melee2', 'elixir_1',\n",
        "       'elixir_2', 'avg_cards_level_diff']]\n",
        "\n",
        "sample_df2 = sample_df[['ID','2_won','elixir_1',\n",
        "       'elixir_2', 'avg_cards_level_diff',\n",
        "       'full_Range_diff', 'attack_range_diff', 'attack_radius_diff',\n",
        "       'attack_speed_diff', 'speed_diff', 'instant_air_damage_diff',\n",
        "       'instant_ground_damage_diff', 'instant_tower_damage_diff',\n",
        "       'individual_air_damage_diff', 'individual_ground_damage_diff',\n",
        "       'individual_tower_damage_diff', 'aoe_air_damage_diff',\n",
        "       'aoe_ground_damage_diff', 'aoe_tower_damage_diff',\n",
        "       'horde_air_damage_diff', 'horde_ground_damage_diff',\n",
        "       'horde_tower_damage_diff', 'individual_hitpoint_diff',\n",
        "       'horde_hitpoint_diff', 'building_hitpoint_diff', 'Special_diff']]"
      ],
      "metadata": {
        "id": "aYoSCCbUSdDK"
      },
      "execution_count": null,
      "outputs": []
    },
    {
      "cell_type": "code",
      "source": [
        "# get a list of models to evaluate\n",
        "def get_models(features_num):\n",
        "\tmodels = dict()\n",
        "\tfor i in range(2, features_num):\n",
        "\t\trfe = RFE(estimator=DecisionTreeClassifier(), n_features_to_select=i)\n",
        "\t\tmodel = DecisionTreeClassifier()\n",
        "\t\tmodels[str(i)] = Pipeline(steps=[('s',rfe),('m',model)])\n",
        "\treturn models\n",
        " \n",
        "# evaluate a give model using cross-validation\n",
        "def evaluate_model(model, X, y):\n",
        "\tcv = RepeatedStratifiedKFold(n_splits=3, n_repeats=2, random_state=1)\n",
        "\tscores = cross_val_score(model, X, y, scoring='roc_auc', cv=cv, n_jobs=-1, error_score='raise')\n",
        "\treturn scores"
      ],
      "metadata": {
        "id": "02MkVXuXDZj4"
      },
      "execution_count": null,
      "outputs": []
    },
    {
      "cell_type": "code",
      "source": [
        "small1 = sample_df1.sample(n=1000, random_state=42)\n",
        "X = small1.drop(['2_won','ID'],axis=1)\n",
        "y = small1[['2_won']]\n",
        "len(X.columns)"
      ],
      "metadata": {
        "colab": {
          "base_uri": "https://localhost:8080/"
        },
        "id": "8Myh8T0THjjR",
        "outputId": "eeb192c0-6ebd-4ecf-deed-eeef375f2784"
      },
      "execution_count": null,
      "outputs": [
        {
          "output_type": "execute_result",
          "data": {
            "text/plain": [
              "37"
            ]
          },
          "metadata": {},
          "execution_count": 34
        }
      ]
    },
    {
      "cell_type": "code",
      "source": [
        "# get the models to evaluate\n",
        "models = get_models(37)\n",
        "# evaluate the models and store results\n",
        "results, names = list(), list()\n",
        "for name, model in models.items():\n",
        "\tscores = evaluate_model(model, X, y)\n",
        "\tresults.append(scores)\n",
        "\tnames.append(name)\n",
        "\tprint('>%s %.3f (%.3f)' % (name, np.mean(scores), np.std(scores)))"
      ],
      "metadata": {
        "colab": {
          "base_uri": "https://localhost:8080/"
        },
        "id": "ekZI_TAYHk-_",
        "outputId": "fa199577-f1ac-4a28-d47f-0e79088c0761"
      },
      "execution_count": null,
      "outputs": [
        {
          "output_type": "stream",
          "name": "stdout",
          "text": [
            ">2 0.569 (0.031)\n",
            ">3 0.552 (0.011)\n",
            ">4 0.554 (0.010)\n",
            ">5 0.552 (0.023)\n",
            ">6 0.571 (0.025)\n",
            ">7 0.576 (0.024)\n",
            ">8 0.575 (0.022)\n",
            ">9 0.567 (0.024)\n",
            ">10 0.565 (0.024)\n",
            ">11 0.560 (0.043)\n",
            ">12 0.562 (0.022)\n",
            ">13 0.555 (0.023)\n",
            ">14 0.568 (0.031)\n",
            ">15 0.577 (0.018)\n",
            ">16 0.564 (0.021)\n",
            ">17 0.570 (0.014)\n",
            ">18 0.560 (0.024)\n",
            ">19 0.570 (0.026)\n",
            ">20 0.569 (0.033)\n",
            ">21 0.569 (0.015)\n",
            ">22 0.577 (0.017)\n",
            ">23 0.557 (0.010)\n",
            ">24 0.567 (0.020)\n",
            ">25 0.556 (0.018)\n",
            ">26 0.561 (0.016)\n",
            ">27 0.566 (0.027)\n",
            ">28 0.564 (0.019)\n",
            ">29 0.554 (0.007)\n",
            ">30 0.557 (0.011)\n",
            ">31 0.570 (0.020)\n",
            ">32 0.572 (0.012)\n",
            ">33 0.564 (0.012)\n",
            ">34 0.563 (0.006)\n",
            ">35 0.565 (0.009)\n",
            ">36 0.560 (0.008)\n"
          ]
        }
      ]
    },
    {
      "cell_type": "code",
      "source": [
        "small2 = sample_df2.sample(n=1000, random_state=42)\n",
        "X = small2.drop(['2_won','ID'],axis=1)\n",
        "y = small2[['2_won']]\n",
        "len(X.columns)"
      ],
      "metadata": {
        "colab": {
          "base_uri": "https://localhost:8080/"
        },
        "id": "Dr078bgqVT9b",
        "outputId": "31b10aca-2a2a-47b0-e08c-5515bdfdf54c"
      },
      "execution_count": null,
      "outputs": [
        {
          "output_type": "execute_result",
          "data": {
            "text/plain": [
              "24"
            ]
          },
          "metadata": {},
          "execution_count": 38
        }
      ]
    },
    {
      "cell_type": "code",
      "source": [
        "# get the models to evaluate\n",
        "models = get_models(24)\n",
        "# evaluate the models and store results\n",
        "results, names = list(), list()\n",
        "for name, model in models.items():\n",
        "\tscores = evaluate_model(model, X, y)\n",
        "\tresults.append(scores)\n",
        "\tnames.append(name)\n",
        "\tprint('>%s %.3f (%.3f)' % (name, np.mean(scores), np.std(scores)))"
      ],
      "metadata": {
        "colab": {
          "base_uri": "https://localhost:8080/"
        },
        "id": "u3WcAwj4WK1V",
        "outputId": "96589fb0-23c3-489b-aff2-2e9fcddbb67a"
      },
      "execution_count": null,
      "outputs": [
        {
          "output_type": "stream",
          "name": "stdout",
          "text": [
            ">2 0.506 (0.023)\n",
            ">3 0.553 (0.032)\n",
            ">4 0.559 (0.024)\n",
            ">5 0.550 (0.008)\n",
            ">6 0.568 (0.018)\n",
            ">7 0.570 (0.017)\n",
            ">8 0.569 (0.025)\n",
            ">9 0.571 (0.026)\n",
            ">10 0.590 (0.022)\n",
            ">11 0.577 (0.032)\n",
            ">12 0.580 (0.024)\n",
            ">13 0.588 (0.031)\n",
            ">14 0.572 (0.026)\n",
            ">15 0.586 (0.035)\n",
            ">16 0.575 (0.023)\n",
            ">17 0.578 (0.027)\n",
            ">18 0.560 (0.020)\n",
            ">19 0.564 (0.018)\n",
            ">20 0.565 (0.022)\n",
            ">21 0.570 (0.016)\n",
            ">22 0.561 (0.022)\n",
            ">23 0.564 (0.027)\n"
          ]
        }
      ]
    },
    {
      "cell_type": "markdown",
      "source": [
        "### 10 features and specs data are the best. Let's find out what those 10 are."
      ],
      "metadata": {
        "id": "kf1-HmP6L5sY"
      }
    },
    {
      "cell_type": "code",
      "source": [
        "small2 = sample_df2.sample(n=1000, random_state=42)\n",
        "X = small2.drop(['2_won','ID'],axis=1)\n",
        "y = small2[['2_won']]\n",
        "len(X.columns)"
      ],
      "metadata": {
        "colab": {
          "base_uri": "https://localhost:8080/"
        },
        "id": "vYkhs2s_YkG3",
        "outputId": "708771d7-150b-4bc9-e440-6340c53cfd1d"
      },
      "execution_count": null,
      "outputs": [
        {
          "output_type": "execute_result",
          "data": {
            "text/plain": [
              "24"
            ]
          },
          "metadata": {},
          "execution_count": 40
        }
      ]
    },
    {
      "cell_type": "code",
      "source": [
        "rfe = RFE(estimator=DecisionTreeClassifier(), n_features_to_select=10)\n",
        "# fit RFE\n",
        "rfe.fit(X, y)\n",
        "# summarize all features\n",
        "feature_df1 = pd.DataFrame()\n",
        "features, selected, ranking  = [], [], []\n",
        "for i in range(X.shape[1]):\n",
        "  features.append(X.columns[i])\n",
        "  selected.append(rfe.support_[i])\n",
        "  ranking.append(rfe.ranking_[i])\n",
        "feature_df1['Feature'] = features\n",
        "feature_df1['Selected'] = selected\n",
        "feature_df1['Ranking'] = ranking\n",
        "feature_df1.sort_values(by=['Ranking'])"
      ],
      "metadata": {
        "colab": {
          "base_uri": "https://localhost:8080/",
          "height": 802
        },
        "id": "JWgj3EadL_aV",
        "outputId": "f9e7a295-593f-4db2-a060-d95e64a3d466"
      },
      "execution_count": null,
      "outputs": [
        {
          "output_type": "execute_result",
          "data": {
            "text/plain": [
              "                          Feature  Selected  Ranking\n",
              "20       individual_hitpoint_diff      True        1\n",
              "2            avg_cards_level_diff      True        1\n",
              "19        horde_tower_damage_diff      True        1\n",
              "5              attack_radius_diff      True        1\n",
              "6               attack_speed_diff      True        1\n",
              "7                      speed_diff      True        1\n",
              "8         instant_air_damage_diff      True        1\n",
              "10      instant_tower_damage_diff      True        1\n",
              "12  individual_ground_damage_diff      True        1\n",
              "13   individual_tower_damage_diff      True        1\n",
              "0                        elixir_1     False        2\n",
              "17          horde_air_damage_diff     False        3\n",
              "9      instant_ground_damage_diff     False        4\n",
              "14            aoe_air_damage_diff     False        5\n",
              "4               attack_range_diff     False        6\n",
              "11     individual_air_damage_diff     False        7\n",
              "1                        elixir_2     False        8\n",
              "15         aoe_ground_damage_diff     False        9\n",
              "23                   Special_diff     False       10\n",
              "18       horde_ground_damage_diff     False       11\n",
              "21            horde_hitpoint_diff     False       12\n",
              "22         building_hitpoint_diff     False       13\n",
              "16          aoe_tower_damage_diff     False       14\n",
              "3                 full_Range_diff     False       15"
            ],
            "text/html": [
              "\n",
              "  <div id=\"df-24c0da55-7e0c-4039-893e-c3adf77b837a\">\n",
              "    <div class=\"colab-df-container\">\n",
              "      <div>\n",
              "<style scoped>\n",
              "    .dataframe tbody tr th:only-of-type {\n",
              "        vertical-align: middle;\n",
              "    }\n",
              "\n",
              "    .dataframe tbody tr th {\n",
              "        vertical-align: top;\n",
              "    }\n",
              "\n",
              "    .dataframe thead th {\n",
              "        text-align: right;\n",
              "    }\n",
              "</style>\n",
              "<table border=\"1\" class=\"dataframe\">\n",
              "  <thead>\n",
              "    <tr style=\"text-align: right;\">\n",
              "      <th></th>\n",
              "      <th>Feature</th>\n",
              "      <th>Selected</th>\n",
              "      <th>Ranking</th>\n",
              "    </tr>\n",
              "  </thead>\n",
              "  <tbody>\n",
              "    <tr>\n",
              "      <th>20</th>\n",
              "      <td>individual_hitpoint_diff</td>\n",
              "      <td>True</td>\n",
              "      <td>1</td>\n",
              "    </tr>\n",
              "    <tr>\n",
              "      <th>2</th>\n",
              "      <td>avg_cards_level_diff</td>\n",
              "      <td>True</td>\n",
              "      <td>1</td>\n",
              "    </tr>\n",
              "    <tr>\n",
              "      <th>19</th>\n",
              "      <td>horde_tower_damage_diff</td>\n",
              "      <td>True</td>\n",
              "      <td>1</td>\n",
              "    </tr>\n",
              "    <tr>\n",
              "      <th>5</th>\n",
              "      <td>attack_radius_diff</td>\n",
              "      <td>True</td>\n",
              "      <td>1</td>\n",
              "    </tr>\n",
              "    <tr>\n",
              "      <th>6</th>\n",
              "      <td>attack_speed_diff</td>\n",
              "      <td>True</td>\n",
              "      <td>1</td>\n",
              "    </tr>\n",
              "    <tr>\n",
              "      <th>7</th>\n",
              "      <td>speed_diff</td>\n",
              "      <td>True</td>\n",
              "      <td>1</td>\n",
              "    </tr>\n",
              "    <tr>\n",
              "      <th>8</th>\n",
              "      <td>instant_air_damage_diff</td>\n",
              "      <td>True</td>\n",
              "      <td>1</td>\n",
              "    </tr>\n",
              "    <tr>\n",
              "      <th>10</th>\n",
              "      <td>instant_tower_damage_diff</td>\n",
              "      <td>True</td>\n",
              "      <td>1</td>\n",
              "    </tr>\n",
              "    <tr>\n",
              "      <th>12</th>\n",
              "      <td>individual_ground_damage_diff</td>\n",
              "      <td>True</td>\n",
              "      <td>1</td>\n",
              "    </tr>\n",
              "    <tr>\n",
              "      <th>13</th>\n",
              "      <td>individual_tower_damage_diff</td>\n",
              "      <td>True</td>\n",
              "      <td>1</td>\n",
              "    </tr>\n",
              "    <tr>\n",
              "      <th>0</th>\n",
              "      <td>elixir_1</td>\n",
              "      <td>False</td>\n",
              "      <td>2</td>\n",
              "    </tr>\n",
              "    <tr>\n",
              "      <th>17</th>\n",
              "      <td>horde_air_damage_diff</td>\n",
              "      <td>False</td>\n",
              "      <td>3</td>\n",
              "    </tr>\n",
              "    <tr>\n",
              "      <th>9</th>\n",
              "      <td>instant_ground_damage_diff</td>\n",
              "      <td>False</td>\n",
              "      <td>4</td>\n",
              "    </tr>\n",
              "    <tr>\n",
              "      <th>14</th>\n",
              "      <td>aoe_air_damage_diff</td>\n",
              "      <td>False</td>\n",
              "      <td>5</td>\n",
              "    </tr>\n",
              "    <tr>\n",
              "      <th>4</th>\n",
              "      <td>attack_range_diff</td>\n",
              "      <td>False</td>\n",
              "      <td>6</td>\n",
              "    </tr>\n",
              "    <tr>\n",
              "      <th>11</th>\n",
              "      <td>individual_air_damage_diff</td>\n",
              "      <td>False</td>\n",
              "      <td>7</td>\n",
              "    </tr>\n",
              "    <tr>\n",
              "      <th>1</th>\n",
              "      <td>elixir_2</td>\n",
              "      <td>False</td>\n",
              "      <td>8</td>\n",
              "    </tr>\n",
              "    <tr>\n",
              "      <th>15</th>\n",
              "      <td>aoe_ground_damage_diff</td>\n",
              "      <td>False</td>\n",
              "      <td>9</td>\n",
              "    </tr>\n",
              "    <tr>\n",
              "      <th>23</th>\n",
              "      <td>Special_diff</td>\n",
              "      <td>False</td>\n",
              "      <td>10</td>\n",
              "    </tr>\n",
              "    <tr>\n",
              "      <th>18</th>\n",
              "      <td>horde_ground_damage_diff</td>\n",
              "      <td>False</td>\n",
              "      <td>11</td>\n",
              "    </tr>\n",
              "    <tr>\n",
              "      <th>21</th>\n",
              "      <td>horde_hitpoint_diff</td>\n",
              "      <td>False</td>\n",
              "      <td>12</td>\n",
              "    </tr>\n",
              "    <tr>\n",
              "      <th>22</th>\n",
              "      <td>building_hitpoint_diff</td>\n",
              "      <td>False</td>\n",
              "      <td>13</td>\n",
              "    </tr>\n",
              "    <tr>\n",
              "      <th>16</th>\n",
              "      <td>aoe_tower_damage_diff</td>\n",
              "      <td>False</td>\n",
              "      <td>14</td>\n",
              "    </tr>\n",
              "    <tr>\n",
              "      <th>3</th>\n",
              "      <td>full_Range_diff</td>\n",
              "      <td>False</td>\n",
              "      <td>15</td>\n",
              "    </tr>\n",
              "  </tbody>\n",
              "</table>\n",
              "</div>\n",
              "      <button class=\"colab-df-convert\" onclick=\"convertToInteractive('df-24c0da55-7e0c-4039-893e-c3adf77b837a')\"\n",
              "              title=\"Convert this dataframe to an interactive table.\"\n",
              "              style=\"display:none;\">\n",
              "        \n",
              "  <svg xmlns=\"http://www.w3.org/2000/svg\" height=\"24px\"viewBox=\"0 0 24 24\"\n",
              "       width=\"24px\">\n",
              "    <path d=\"M0 0h24v24H0V0z\" fill=\"none\"/>\n",
              "    <path d=\"M18.56 5.44l.94 2.06.94-2.06 2.06-.94-2.06-.94-.94-2.06-.94 2.06-2.06.94zm-11 1L8.5 8.5l.94-2.06 2.06-.94-2.06-.94L8.5 2.5l-.94 2.06-2.06.94zm10 10l.94 2.06.94-2.06 2.06-.94-2.06-.94-.94-2.06-.94 2.06-2.06.94z\"/><path d=\"M17.41 7.96l-1.37-1.37c-.4-.4-.92-.59-1.43-.59-.52 0-1.04.2-1.43.59L10.3 9.45l-7.72 7.72c-.78.78-.78 2.05 0 2.83L4 21.41c.39.39.9.59 1.41.59.51 0 1.02-.2 1.41-.59l7.78-7.78 2.81-2.81c.8-.78.8-2.07 0-2.86zM5.41 20L4 18.59l7.72-7.72 1.47 1.35L5.41 20z\"/>\n",
              "  </svg>\n",
              "      </button>\n",
              "      \n",
              "  <style>\n",
              "    .colab-df-container {\n",
              "      display:flex;\n",
              "      flex-wrap:wrap;\n",
              "      gap: 12px;\n",
              "    }\n",
              "\n",
              "    .colab-df-convert {\n",
              "      background-color: #E8F0FE;\n",
              "      border: none;\n",
              "      border-radius: 50%;\n",
              "      cursor: pointer;\n",
              "      display: none;\n",
              "      fill: #1967D2;\n",
              "      height: 32px;\n",
              "      padding: 0 0 0 0;\n",
              "      width: 32px;\n",
              "    }\n",
              "\n",
              "    .colab-df-convert:hover {\n",
              "      background-color: #E2EBFA;\n",
              "      box-shadow: 0px 1px 2px rgba(60, 64, 67, 0.3), 0px 1px 3px 1px rgba(60, 64, 67, 0.15);\n",
              "      fill: #174EA6;\n",
              "    }\n",
              "\n",
              "    [theme=dark] .colab-df-convert {\n",
              "      background-color: #3B4455;\n",
              "      fill: #D2E3FC;\n",
              "    }\n",
              "\n",
              "    [theme=dark] .colab-df-convert:hover {\n",
              "      background-color: #434B5C;\n",
              "      box-shadow: 0px 1px 3px 1px rgba(0, 0, 0, 0.15);\n",
              "      filter: drop-shadow(0px 1px 2px rgba(0, 0, 0, 0.3));\n",
              "      fill: #FFFFFF;\n",
              "    }\n",
              "  </style>\n",
              "\n",
              "      <script>\n",
              "        const buttonEl =\n",
              "          document.querySelector('#df-24c0da55-7e0c-4039-893e-c3adf77b837a button.colab-df-convert');\n",
              "        buttonEl.style.display =\n",
              "          google.colab.kernel.accessAllowed ? 'block' : 'none';\n",
              "\n",
              "        async function convertToInteractive(key) {\n",
              "          const element = document.querySelector('#df-24c0da55-7e0c-4039-893e-c3adf77b837a');\n",
              "          const dataTable =\n",
              "            await google.colab.kernel.invokeFunction('convertToInteractive',\n",
              "                                                     [key], {});\n",
              "          if (!dataTable) return;\n",
              "\n",
              "          const docLinkHtml = 'Like what you see? Visit the ' +\n",
              "            '<a target=\"_blank\" href=https://colab.research.google.com/notebooks/data_table.ipynb>data table notebook</a>'\n",
              "            + ' to learn more about interactive tables.';\n",
              "          element.innerHTML = '';\n",
              "          dataTable['output_type'] = 'display_data';\n",
              "          await google.colab.output.renderOutput(dataTable, element);\n",
              "          const docLink = document.createElement('div');\n",
              "          docLink.innerHTML = docLinkHtml;\n",
              "          element.appendChild(docLink);\n",
              "        }\n",
              "      </script>\n",
              "    </div>\n",
              "  </div>\n",
              "  "
            ]
          },
          "metadata": {},
          "execution_count": 41
        }
      ]
    },
    {
      "cell_type": "code",
      "source": [
        "sample_df = sample_df[['ID','2_won','individual_hitpoint_diff','avg_cards_level_diff','horde_tower_damage_diff',\\\n",
        "                       'attack_radius_diff','attack_speed_diff','speed_diff','instant_air_damage_diff',\\\n",
        "                       'instant_tower_damage_diff','individual_ground_damage_diff','individual_tower_damage_diff']]"
      ],
      "metadata": {
        "id": "pI5vWDhpQhWt"
      },
      "execution_count": 10,
      "outputs": []
    },
    {
      "cell_type": "code",
      "source": [
        "X = sample_df.drop(['2_won','ID'],axis=1)\n",
        "y = sample_df[['2_won']]\n",
        "\n",
        "X_train, X_test, y_train, y_test = train_test_split(X, y, test_size=0.3, random_state=42)\n",
        "\n",
        "rfc = RandomForestClassifier()\n",
        "rfc.fit(X_train,y_train)\n",
        "# predictions\n",
        "y_pred = rfc.predict(X_test)\n",
        "\n",
        "rfc_cv_score = cross_val_score(rfc, X, y, cv=3, scoring='roc_auc')\n",
        "\n",
        "eval_result(y_test,y_pred,rfc_cv_score,'RF','AUC')"
      ],
      "metadata": {
        "colab": {
          "base_uri": "https://localhost:8080/"
        },
        "id": "o2Z7g9-jbPeb",
        "outputId": "de95abd6-4c1e-475b-ddf1-2f6c8f5ec205"
      },
      "execution_count": null,
      "outputs": [
        {
          "output_type": "stream",
          "name": "stderr",
          "text": [
            "/usr/local/lib/python3.7/dist-packages/ipykernel_launcher.py:7: DataConversionWarning: A column-vector y was passed when a 1d array was expected. Please change the shape of y to (n_samples,), for example using ravel().\n",
            "  import sys\n",
            "/usr/local/lib/python3.7/dist-packages/sklearn/model_selection/_validation.py:680: DataConversionWarning: A column-vector y was passed when a 1d array was expected. Please change the shape of y to (n_samples,), for example using ravel().\n",
            "  estimator.fit(X_train, y_train, **fit_params)\n",
            "/usr/local/lib/python3.7/dist-packages/sklearn/model_selection/_validation.py:680: DataConversionWarning: A column-vector y was passed when a 1d array was expected. Please change the shape of y to (n_samples,), for example using ravel().\n",
            "  estimator.fit(X_train, y_train, **fit_params)\n",
            "/usr/local/lib/python3.7/dist-packages/sklearn/model_selection/_validation.py:680: DataConversionWarning: A column-vector y was passed when a 1d array was expected. Please change the shape of y to (n_samples,), for example using ravel().\n",
            "  estimator.fit(X_train, y_train, **fit_params)\n"
          ]
        },
        {
          "output_type": "stream",
          "name": "stdout",
          "text": [
            "=== Confusion Matrix ===\n",
            "[[951 512]\n",
            " [664 873]]\n",
            "\n",
            "\n",
            "=== Classification Report ===\n",
            "              precision    recall  f1-score   support\n",
            "\n",
            "           0       0.59      0.65      0.62      1463\n",
            "           1       0.63      0.57      0.60      1537\n",
            "\n",
            "    accuracy                           0.61      3000\n",
            "   macro avg       0.61      0.61      0.61      3000\n",
            "weighted avg       0.61      0.61      0.61      3000\n",
            "\n",
            "\n",
            "\n",
            "=== All AUC Scores ===\n",
            "[0.65738052 0.66566825 0.66020559]\n",
            "\n",
            "\n",
            "=== Mean AUC Score ===\n",
            "Mean AUC Score - RF:  0.6610847874447519\n"
          ]
        }
      ]
    },
    {
      "cell_type": "markdown",
      "source": [
        "# Compare between different models!"
      ],
      "metadata": {
        "id": "oS0ZROzueB9F"
      }
    },
    {
      "cell_type": "code",
      "source": [
        "scaler = MinMaxScaler()\n",
        "X = sample_df.drop(['2_won','ID'],axis=1)\n",
        "X = scaler.fit_transform(X.to_numpy())\n",
        "X = pd.DataFrame(X, columns=['individual_hitpoint_diff','avg_cards_level_diff','horde_tower_damage_diff',\\\n",
        "                       'attack_radius_diff','attack_speed_diff','speed_diff','instant_air_damage_diff',\\\n",
        "                       'instant_tower_damage_diff','individual_ground_damage_diff','individual_tower_damage_diff'])\n",
        "y = sample_df[['2_won']]\n",
        "\n",
        "X_train, X_test, y_train, y_test = train_test_split(X, y, test_size=0.3, random_state=42)"
      ],
      "metadata": {
        "id": "xPIKUV80DU_X"
      },
      "execution_count": null,
      "outputs": []
    },
    {
      "cell_type": "code",
      "source": [
        "models = []\n",
        "models.append(('LR', LogisticRegression()))\n",
        "models.append(('KNN', KNeighborsClassifier()))\n",
        "models.append(('DT', DecisionTreeClassifier()))\n",
        "models.append(('RF', RandomForestClassifier()))\n",
        "models.append(('NB', GaussianNB()))\n",
        "models.append(('SVM', SVC()))\n",
        "models.append(('XGB', xgb.XGBClassifier()))\n",
        "\n",
        "results = []\n",
        "names = []\n",
        "stds = []\n",
        "scoring = 'roc_auc'\n",
        "result_table = pd.DataFrame()\n",
        "for name, model in models:\n",
        "      kfold = model_selection.KFold(n_splits=9)\n",
        "      cv_results = model_selection.cross_val_score(model, X_train, y_train, cv=kfold, scoring=scoring)\n",
        "      names.append(name)\n",
        "      results.append(cv_results.mean())\n",
        "      stds.append(cv_results.std())\n",
        "result_table['Model'] = names\n",
        "result_table['roc_auc_mean'] = results\n",
        "result_table['roc_auc_std'] = stds"
      ],
      "metadata": {
        "id": "0p7uyR1OeGdh"
      },
      "execution_count": null,
      "outputs": []
    },
    {
      "cell_type": "code",
      "source": [
        "results = []\n",
        "names = []\n",
        "stds = []\n",
        "scoring = 'accuracy'\n",
        "for name, model in models:\n",
        "      kfold = model_selection.KFold(n_splits=9)\n",
        "      cv_results = model_selection.cross_val_score(model, X_train, y_train, cv=kfold, scoring=scoring)\n",
        "      results.append(cv_results.mean())\n",
        "      stds.append(cv_results.std())\n",
        "result_table['accuracy_mean'] = results\n",
        "result_table['accuracy_std'] = stds"
      ],
      "metadata": {
        "id": "ZOf3xQjXeH9Z"
      },
      "execution_count": null,
      "outputs": []
    },
    {
      "cell_type": "code",
      "source": [
        "result_table"
      ],
      "metadata": {
        "id": "pS912_CFeH6V",
        "colab": {
          "base_uri": "https://localhost:8080/",
          "height": 269
        },
        "outputId": "9be75a88-1816-416d-d6e2-edb8c37a9c57"
      },
      "execution_count": null,
      "outputs": [
        {
          "output_type": "execute_result",
          "data": {
            "text/plain": [
              "  Model  roc_auc_mean  roc_auc_std  accuracy_mean  accuracy_std\n",
              "0    LR      0.681501     0.019184       0.628716      0.012990\n",
              "1   KNN      0.579289     0.018154       0.560714      0.017583\n",
              "2    DT      0.541154     0.025649       0.535861      0.026930\n",
              "3    RF      0.653177     0.017334       0.615430      0.013678\n",
              "4    NB      0.672343     0.017000       0.617145      0.013600\n",
              "5   SVM      0.664406     0.017798       0.614569      0.016010\n",
              "6   XGB      0.671768     0.018129       0.620429      0.016905"
            ],
            "text/html": [
              "\n",
              "  <div id=\"df-91d6059e-affa-492e-82c5-accdb1dd1cd5\">\n",
              "    <div class=\"colab-df-container\">\n",
              "      <div>\n",
              "<style scoped>\n",
              "    .dataframe tbody tr th:only-of-type {\n",
              "        vertical-align: middle;\n",
              "    }\n",
              "\n",
              "    .dataframe tbody tr th {\n",
              "        vertical-align: top;\n",
              "    }\n",
              "\n",
              "    .dataframe thead th {\n",
              "        text-align: right;\n",
              "    }\n",
              "</style>\n",
              "<table border=\"1\" class=\"dataframe\">\n",
              "  <thead>\n",
              "    <tr style=\"text-align: right;\">\n",
              "      <th></th>\n",
              "      <th>Model</th>\n",
              "      <th>roc_auc_mean</th>\n",
              "      <th>roc_auc_std</th>\n",
              "      <th>accuracy_mean</th>\n",
              "      <th>accuracy_std</th>\n",
              "    </tr>\n",
              "  </thead>\n",
              "  <tbody>\n",
              "    <tr>\n",
              "      <th>0</th>\n",
              "      <td>LR</td>\n",
              "      <td>0.681501</td>\n",
              "      <td>0.019184</td>\n",
              "      <td>0.628716</td>\n",
              "      <td>0.012990</td>\n",
              "    </tr>\n",
              "    <tr>\n",
              "      <th>1</th>\n",
              "      <td>KNN</td>\n",
              "      <td>0.579289</td>\n",
              "      <td>0.018154</td>\n",
              "      <td>0.560714</td>\n",
              "      <td>0.017583</td>\n",
              "    </tr>\n",
              "    <tr>\n",
              "      <th>2</th>\n",
              "      <td>DT</td>\n",
              "      <td>0.541154</td>\n",
              "      <td>0.025649</td>\n",
              "      <td>0.535861</td>\n",
              "      <td>0.026930</td>\n",
              "    </tr>\n",
              "    <tr>\n",
              "      <th>3</th>\n",
              "      <td>RF</td>\n",
              "      <td>0.653177</td>\n",
              "      <td>0.017334</td>\n",
              "      <td>0.615430</td>\n",
              "      <td>0.013678</td>\n",
              "    </tr>\n",
              "    <tr>\n",
              "      <th>4</th>\n",
              "      <td>NB</td>\n",
              "      <td>0.672343</td>\n",
              "      <td>0.017000</td>\n",
              "      <td>0.617145</td>\n",
              "      <td>0.013600</td>\n",
              "    </tr>\n",
              "    <tr>\n",
              "      <th>5</th>\n",
              "      <td>SVM</td>\n",
              "      <td>0.664406</td>\n",
              "      <td>0.017798</td>\n",
              "      <td>0.614569</td>\n",
              "      <td>0.016010</td>\n",
              "    </tr>\n",
              "    <tr>\n",
              "      <th>6</th>\n",
              "      <td>XGB</td>\n",
              "      <td>0.671768</td>\n",
              "      <td>0.018129</td>\n",
              "      <td>0.620429</td>\n",
              "      <td>0.016905</td>\n",
              "    </tr>\n",
              "  </tbody>\n",
              "</table>\n",
              "</div>\n",
              "      <button class=\"colab-df-convert\" onclick=\"convertToInteractive('df-91d6059e-affa-492e-82c5-accdb1dd1cd5')\"\n",
              "              title=\"Convert this dataframe to an interactive table.\"\n",
              "              style=\"display:none;\">\n",
              "        \n",
              "  <svg xmlns=\"http://www.w3.org/2000/svg\" height=\"24px\"viewBox=\"0 0 24 24\"\n",
              "       width=\"24px\">\n",
              "    <path d=\"M0 0h24v24H0V0z\" fill=\"none\"/>\n",
              "    <path d=\"M18.56 5.44l.94 2.06.94-2.06 2.06-.94-2.06-.94-.94-2.06-.94 2.06-2.06.94zm-11 1L8.5 8.5l.94-2.06 2.06-.94-2.06-.94L8.5 2.5l-.94 2.06-2.06.94zm10 10l.94 2.06.94-2.06 2.06-.94-2.06-.94-.94-2.06-.94 2.06-2.06.94z\"/><path d=\"M17.41 7.96l-1.37-1.37c-.4-.4-.92-.59-1.43-.59-.52 0-1.04.2-1.43.59L10.3 9.45l-7.72 7.72c-.78.78-.78 2.05 0 2.83L4 21.41c.39.39.9.59 1.41.59.51 0 1.02-.2 1.41-.59l7.78-7.78 2.81-2.81c.8-.78.8-2.07 0-2.86zM5.41 20L4 18.59l7.72-7.72 1.47 1.35L5.41 20z\"/>\n",
              "  </svg>\n",
              "      </button>\n",
              "      \n",
              "  <style>\n",
              "    .colab-df-container {\n",
              "      display:flex;\n",
              "      flex-wrap:wrap;\n",
              "      gap: 12px;\n",
              "    }\n",
              "\n",
              "    .colab-df-convert {\n",
              "      background-color: #E8F0FE;\n",
              "      border: none;\n",
              "      border-radius: 50%;\n",
              "      cursor: pointer;\n",
              "      display: none;\n",
              "      fill: #1967D2;\n",
              "      height: 32px;\n",
              "      padding: 0 0 0 0;\n",
              "      width: 32px;\n",
              "    }\n",
              "\n",
              "    .colab-df-convert:hover {\n",
              "      background-color: #E2EBFA;\n",
              "      box-shadow: 0px 1px 2px rgba(60, 64, 67, 0.3), 0px 1px 3px 1px rgba(60, 64, 67, 0.15);\n",
              "      fill: #174EA6;\n",
              "    }\n",
              "\n",
              "    [theme=dark] .colab-df-convert {\n",
              "      background-color: #3B4455;\n",
              "      fill: #D2E3FC;\n",
              "    }\n",
              "\n",
              "    [theme=dark] .colab-df-convert:hover {\n",
              "      background-color: #434B5C;\n",
              "      box-shadow: 0px 1px 3px 1px rgba(0, 0, 0, 0.15);\n",
              "      filter: drop-shadow(0px 1px 2px rgba(0, 0, 0, 0.3));\n",
              "      fill: #FFFFFF;\n",
              "    }\n",
              "  </style>\n",
              "\n",
              "      <script>\n",
              "        const buttonEl =\n",
              "          document.querySelector('#df-91d6059e-affa-492e-82c5-accdb1dd1cd5 button.colab-df-convert');\n",
              "        buttonEl.style.display =\n",
              "          google.colab.kernel.accessAllowed ? 'block' : 'none';\n",
              "\n",
              "        async function convertToInteractive(key) {\n",
              "          const element = document.querySelector('#df-91d6059e-affa-492e-82c5-accdb1dd1cd5');\n",
              "          const dataTable =\n",
              "            await google.colab.kernel.invokeFunction('convertToInteractive',\n",
              "                                                     [key], {});\n",
              "          if (!dataTable) return;\n",
              "\n",
              "          const docLinkHtml = 'Like what you see? Visit the ' +\n",
              "            '<a target=\"_blank\" href=https://colab.research.google.com/notebooks/data_table.ipynb>data table notebook</a>'\n",
              "            + ' to learn more about interactive tables.';\n",
              "          element.innerHTML = '';\n",
              "          dataTable['output_type'] = 'display_data';\n",
              "          await google.colab.output.renderOutput(dataTable, element);\n",
              "          const docLink = document.createElement('div');\n",
              "          docLink.innerHTML = docLinkHtml;\n",
              "          element.appendChild(docLink);\n",
              "        }\n",
              "      </script>\n",
              "    </div>\n",
              "  </div>\n",
              "  "
            ]
          },
          "metadata": {},
          "execution_count": 45
        }
      ]
    },
    {
      "cell_type": "markdown",
      "source": [
        "### Looks like ligistic regression is the best! Let's go with that."
      ],
      "metadata": {
        "id": "yJp1SwGjLM6L"
      }
    },
    {
      "cell_type": "markdown",
      "source": [
        "# Hyperparameter tuning!"
      ],
      "metadata": {
        "id": "ZH4YpqRjeI0g"
      }
    },
    {
      "cell_type": "code",
      "source": [
        "scaler = MinMaxScaler()\n",
        "X = sample_df.drop(['2_won','ID'],axis=1)\n",
        "X = scaler.fit_transform(X.to_numpy())\n",
        "X = pd.DataFrame(X, columns=['individual_hitpoint_diff','avg_cards_level_diff','horde_tower_damage_diff',\\\n",
        "                       'attack_radius_diff','attack_speed_diff','speed_diff','instant_air_damage_diff',\\\n",
        "                       'instant_tower_damage_diff','individual_ground_damage_diff','individual_tower_damage_diff'])\n",
        "y = sample_df[['2_won']]\n",
        "\n",
        "X_train, X_test, y_train, y_test = train_test_split(X, y, test_size=0.3, random_state=42)"
      ],
      "metadata": {
        "id": "8t9w34SuLute"
      },
      "execution_count": null,
      "outputs": []
    },
    {
      "cell_type": "code",
      "source": [
        "model = LogisticRegression()\n",
        "solvers = ['newton-cg', 'lbfgs', 'liblinear']\n",
        "penalty = ['l2']\n",
        "c_values = [100, 10, 1.0, 0.1, 0.01]\n",
        "# define grid search\n",
        "grid = dict(solver=solvers,penalty=penalty,C=c_values)\n",
        "cv = RepeatedStratifiedKFold(n_splits=7, n_repeats=2, random_state=42)\n",
        "grid_search = GridSearchCV(estimator=model, param_grid=grid, n_jobs=-1, cv=cv, scoring='accuracy')\n",
        "grid_result = grid_search.fit(X, y)\n",
        "# summarize results\n",
        "print(\"Best: %f using %s\" % (grid_result.best_score_, grid_result.best_params_))\n",
        "means = grid_result.cv_results_['mean_test_score']\n",
        "stds = grid_result.cv_results_['std_test_score']\n",
        "params = grid_result.cv_results_['params']\n",
        "for mean, stdev, param in zip(means, stds, params):\n",
        "    print(\"%f (%f) with: %r\" % (mean, stdev, param))"
      ],
      "metadata": {
        "id": "eNgwDf86eLyL",
        "colab": {
          "base_uri": "https://localhost:8080/"
        },
        "outputId": "89048ce4-e3ec-4064-d42d-86b8cbcf79ba"
      },
      "execution_count": null,
      "outputs": [
        {
          "output_type": "stream",
          "name": "stdout",
          "text": [
            "Best: 0.629851 using {'C': 10, 'penalty': 'l2', 'solver': 'liblinear'}\n",
            "0.629551 (0.014609) with: {'C': 100, 'penalty': 'l2', 'solver': 'newton-cg'}\n",
            "0.629601 (0.014538) with: {'C': 100, 'penalty': 'l2', 'solver': 'lbfgs'}\n",
            "0.629451 (0.014712) with: {'C': 100, 'penalty': 'l2', 'solver': 'liblinear'}\n",
            "0.629351 (0.014650) with: {'C': 10, 'penalty': 'l2', 'solver': 'newton-cg'}\n",
            "0.629351 (0.014650) with: {'C': 10, 'penalty': 'l2', 'solver': 'lbfgs'}\n",
            "0.629851 (0.014658) with: {'C': 10, 'penalty': 'l2', 'solver': 'liblinear'}\n",
            "0.629051 (0.014265) with: {'C': 1.0, 'penalty': 'l2', 'solver': 'newton-cg'}\n",
            "0.629051 (0.014265) with: {'C': 1.0, 'penalty': 'l2', 'solver': 'lbfgs'}\n",
            "0.629051 (0.014848) with: {'C': 1.0, 'penalty': 'l2', 'solver': 'liblinear'}\n",
            "0.627151 (0.015059) with: {'C': 0.1, 'penalty': 'l2', 'solver': 'newton-cg'}\n",
            "0.627151 (0.015059) with: {'C': 0.1, 'penalty': 'l2', 'solver': 'lbfgs'}\n",
            "0.618550 (0.013524) with: {'C': 0.1, 'penalty': 'l2', 'solver': 'liblinear'}\n",
            "0.611452 (0.012972) with: {'C': 0.01, 'penalty': 'l2', 'solver': 'newton-cg'}\n",
            "0.611452 (0.012972) with: {'C': 0.01, 'penalty': 'l2', 'solver': 'lbfgs'}\n",
            "0.598801 (0.012711) with: {'C': 0.01, 'penalty': 'l2', 'solver': 'liblinear'}\n"
          ]
        },
        {
          "output_type": "stream",
          "name": "stderr",
          "text": [
            "/usr/local/lib/python3.7/dist-packages/sklearn/utils/validation.py:993: DataConversionWarning: A column-vector y was passed when a 1d array was expected. Please change the shape of y to (n_samples, ), for example using ravel().\n",
            "  y = column_or_1d(y, warn=True)\n"
          ]
        }
      ]
    },
    {
      "cell_type": "markdown",
      "source": [
        "# Evaluation!"
      ],
      "metadata": {
        "id": "WaiCCvbGRkLL"
      }
    },
    {
      "cell_type": "code",
      "source": [
        "sample_ids = sample_df['ID'].to_list()"
      ],
      "metadata": {
        "id": "ZMaiC_j3RmS8"
      },
      "execution_count": 11,
      "outputs": []
    },
    {
      "cell_type": "code",
      "source": [
        "df.rename(columns={\"Unnamed: 0\": \"ID\"},inplace=True)"
      ],
      "metadata": {
        "id": "KCnz1roDSAfK"
      },
      "execution_count": 12,
      "outputs": []
    },
    {
      "cell_type": "code",
      "source": [
        "mid_trophies = df.loc[(df['startingTrophies2']<5500) & (df['startingTrophies2']>3500)]\n",
        "out_of_bag = mid_trophies.loc[~(mid_trophies['ID'].isin(sample_ids))]"
      ],
      "metadata": {
        "id": "aqeocL6jSJkE"
      },
      "execution_count": 13,
      "outputs": []
    },
    {
      "cell_type": "code",
      "source": [
        "len(out_of_bag)"
      ],
      "metadata": {
        "colab": {
          "base_uri": "https://localhost:8080/"
        },
        "id": "dBRXL08ZSeky",
        "outputId": "bd2290da-6bb4-4d0a-c785-d0c2b925d98d"
      },
      "execution_count": null,
      "outputs": [
        {
          "output_type": "execute_result",
          "data": {
            "text/plain": [
              "372791"
            ]
          },
          "metadata": {},
          "execution_count": 77
        }
      ]
    },
    {
      "cell_type": "code",
      "source": [
        "len(df)"
      ],
      "metadata": {
        "colab": {
          "base_uri": "https://localhost:8080/"
        },
        "id": "88GxNBvMTDgU",
        "outputId": "282e8c4d-0379-4f1d-952f-c5591b1f90fd"
      },
      "execution_count": null,
      "outputs": [
        {
          "output_type": "execute_result",
          "data": {
            "text/plain": [
              "919899"
            ]
          },
          "metadata": {},
          "execution_count": 78
        }
      ]
    },
    {
      "cell_type": "code",
      "source": [
        "sample_out_of_bag = out_of_bag.sample(n=2000, random_state=42)\n",
        "\n",
        "import ast\n",
        "\n",
        "sample_out_of_bag['cards2_dict'] = sample_out_of_bag['cards2_dict'].apply(lambda x: ast.literal_eval(x))\n",
        "sample_out_of_bag['deck2'] = sample_out_of_bag['cards2_dict'].apply(lambda x: [a['name'] for a in x])\n",
        "\n",
        "sample_out_of_bag['cards1_dict'] = sample_out_of_bag['cards1'].apply(lambda x: ast.literal_eval(x))\n",
        "sample_out_of_bag['deck1'] = sample_out_of_bag['cards1_dict'].apply(lambda x: [a['name'] for a in x])\n",
        "\n",
        "def merge(list1, list2):\n",
        "  merged_list = [(list1[i], list2[i]) for i in range(len(list1))]\n",
        "  return merged_list\n",
        "\n",
        "sample_out_of_bag['max_level_1'] = sample_out_of_bag['cards1_dict'].apply(lambda x: [a['maxLevel'] for a in x])\n",
        "sample_out_of_bag['level_1'] = sample_out_of_bag['cards1_dict'].apply(lambda x: [a['level'] for a in x])\n",
        "sample_out_of_bag['cards_level_1'] = [[x-y+14 for x,y in merge(sample_out_of_bag['level_1'].iloc[i],sample_out_of_bag['max_level_1'].iloc[i])] for i in range(len(sample_out_of_bag))]\n",
        "sample_out_of_bag['avg_cards_level_1'] = [sum(x)/8 for x in sample_out_of_bag['cards_level_1']]\n",
        "\n",
        "sample_out_of_bag['max_level_2'] = sample_out_of_bag['cards2_dict'].apply(lambda x: [a['maxLevel'] for a in x])\n",
        "sample_out_of_bag['level_2'] = sample_out_of_bag['cards2_dict'].apply(lambda x: [a['level'] for a in x])\n",
        "sample_out_of_bag['cards_level_2'] = [[x-y+14 for x,y in merge(sample_out_of_bag['level_2'].iloc[i],sample_out_of_bag['max_level_2'].iloc[i])] for i in range(len(sample_out_of_bag))]\n",
        "sample_out_of_bag['avg_cards_level_2'] = [sum(x)/8 for x in sample_out_of_bag['cards_level_2']]\n",
        "\n",
        "sample_out_of_bag['crowns_won'] = sample_out_of_bag['crowns2'] - sample_out_of_bag['crowns1']\n",
        "sample_out_of_bag['2_won'] = 0\n",
        "sample_out_of_bag['2_won'].loc[sample_out_of_bag['crowns_won']>0] = 1\n",
        "sample_out_of_bag['2_won'].loc[sample_out_of_bag['crowns_won']<0] = 0\n",
        "\n",
        "sample_out_of_bag.drop(['won','crowns_won','crowns1','crowns2','cards1','cards2','cards1_dict','cards2_dict','max_level_1'\\\n",
        "                ,'max_level_2','level_1','level_2','cards_level_1','cards_level_2'],axis=1,inplace=True)\n",
        "\n",
        "stats_df = pd.read_excel('/content/drive/My Drive/clash/card_stats.xlsx')\n",
        "stats_df.drop(['Unnamed: 0'],axis=1,inplace=True)\n",
        "\n",
        "for spec in stats_df.drop(['category','Detailed Cat.'],axis=1).columns[1:].to_list():\n",
        "    sample_out_of_bag[spec+'_1'] = sample_out_of_bag['deck1'].apply(lambda x: sum(stats_df[spec].loc[stats_df['Card']==a].item() for a in x))\n",
        "\n",
        "for spec in stats_df.drop(['category','Detailed Cat.'],axis=1).columns[1:].to_list():\n",
        "    sample_out_of_bag[spec+'_2'] = sample_out_of_bag['deck2'].apply(lambda x: sum(stats_df[spec].loc[stats_df['Card']==a].item() for a in x))\n",
        "\n",
        "troops_list = stats_df['Card'].loc[stats_df['category']=='Troop'].to_list()\n",
        "\n",
        "sample_out_of_bag['Troop_num_1'] = sample_out_of_bag['deck1'].apply(lambda x: how_many_A_in_B(x,troops_list))\n",
        "sample_out_of_bag['Troop_num_2'] = sample_out_of_bag['deck2'].apply(lambda x: how_many_A_in_B(x,troops_list))\n",
        "\n",
        "sample_out_of_bag['attack_range_1'] = sample_out_of_bag['attack_range_1']/sample_out_of_bag['Troop_num_1']\n",
        "sample_out_of_bag['attack_speed_1'] = sample_out_of_bag['attack_speed_1']/sample_out_of_bag['Troop_num_1']\n",
        "sample_out_of_bag['speed_1'] = sample_out_of_bag['speed_1']/sample_out_of_bag['Troop_num_1']\n",
        "\n",
        "sample_out_of_bag['attack_range_2'] = sample_out_of_bag['attack_range_2']/sample_out_of_bag['Troop_num_2']\n",
        "sample_out_of_bag['attack_speed_2'] = sample_out_of_bag['attack_speed_2']/sample_out_of_bag['Troop_num_2']\n",
        "sample_out_of_bag['speed_2'] = sample_out_of_bag['speed_2']/sample_out_of_bag['Troop_num_2']\n",
        "\n",
        "specs_of_deck = ['avg_cards_level','full_Range','attack_range','attack_radius','attack_speed',\\\n",
        "             'speed','instant_air_damage','instant_ground_damage','instant_tower_damage','individual_air_damage',\\\n",
        "             'individual_ground_damage','individual_tower_damage','aoe_air_damage','aoe_ground_damage',\\\n",
        "             'aoe_tower_damage','horde_air_damage','horde_ground_damage','horde_tower_damage','individual_hitpoint',\\\n",
        "             'horde_hitpoint','building_hitpoint','Special']\n",
        "\n",
        "for spec in specs_of_deck:\n",
        "  sample_out_of_bag[spec+'_diff'] = sample_out_of_bag[spec+'_2'] - sample_out_of_bag[spec+'_1']\n",
        "  sample_out_of_bag.drop([(spec+'_1'),(spec+'_2')],axis=1,inplace=True)\n",
        "\n",
        "sample_out_of_bag = sample_out_of_bag[['2_won','individual_hitpoint_diff','avg_cards_level_diff','horde_tower_damage_diff',\\\n",
        "                       'attack_radius_diff','attack_speed_diff','speed_diff','instant_air_damage_diff',\\\n",
        "                       'instant_tower_damage_diff','individual_ground_damage_diff','individual_tower_damage_diff']]"
      ],
      "metadata": {
        "colab": {
          "base_uri": "https://localhost:8080/"
        },
        "id": "Y_HO5QPRTIvi",
        "outputId": "4a53b9df-347c-4364-bd4b-564842c7ccd9"
      },
      "execution_count": 14,
      "outputs": [
        {
          "output_type": "stream",
          "name": "stderr",
          "text": [
            "/usr/local/lib/python3.7/dist-packages/pandas/core/indexing.py:1732: SettingWithCopyWarning: \n",
            "A value is trying to be set on a copy of a slice from a DataFrame\n",
            "\n",
            "See the caveats in the documentation: https://pandas.pydata.org/pandas-docs/stable/user_guide/indexing.html#returning-a-view-versus-a-copy\n",
            "  self._setitem_single_block(indexer, value, name)\n"
          ]
        }
      ]
    },
    {
      "cell_type": "code",
      "source": [
        "scaler = MinMaxScaler()\n",
        "X = sample_df.drop(['2_won','ID'],axis=1)\n",
        "X = scaler.fit_transform(X.to_numpy())\n",
        "X = pd.DataFrame(X, columns=['individual_hitpoint_diff','avg_cards_level_diff','horde_tower_damage_diff',\\\n",
        "                       'attack_radius_diff','attack_speed_diff','speed_diff','instant_air_damage_diff',\\\n",
        "                       'instant_tower_damage_diff','individual_ground_damage_diff','individual_tower_damage_diff'])\n",
        "y = sample_df[['2_won']]"
      ],
      "metadata": {
        "id": "XVbe_cV7XnMp"
      },
      "execution_count": 15,
      "outputs": []
    },
    {
      "cell_type": "code",
      "source": [
        "val_X = sample_out_of_bag.drop(['2_won'],axis=1)\n",
        "val_X = scaler.fit_transform(val_X.to_numpy())\n",
        "val_X = pd.DataFrame(val_X, columns=['individual_hitpoint_diff','avg_cards_level_diff','horde_tower_damage_diff',\\\n",
        "                       'attack_radius_diff','attack_speed_diff','speed_diff','instant_air_damage_diff',\\\n",
        "                       'instant_tower_damage_diff','individual_ground_damage_diff','individual_tower_damage_diff'])\n",
        "val_y = sample_out_of_bag[['2_won']]"
      ],
      "metadata": {
        "id": "XIht3l7iZV-2"
      },
      "execution_count": 16,
      "outputs": []
    },
    {
      "cell_type": "code",
      "source": [
        "lr = LogisticRegression(C=10, penalty='l2', solver= 'liblinear')\n",
        "lr.fit(X,y)\n",
        "# predictions\n",
        "y_pred = lr.predict(val_X)\n",
        "\n",
        "lr_cv_score = cross_val_score(lr, val_X, val_y, cv=3, scoring='accuracy')\n",
        "\n",
        "eval_result(val_y,y_pred,lr_cv_score,'LR','accuracy')"
      ],
      "metadata": {
        "colab": {
          "base_uri": "https://localhost:8080/"
        },
        "id": "_fZQRRujUvs3",
        "outputId": "97611bfa-44e9-41e3-fe04-ede0aaf9f17e"
      },
      "execution_count": 19,
      "outputs": [
        {
          "output_type": "stream",
          "name": "stdout",
          "text": [
            "=== Confusion Matrix ===\n",
            "[[949  85]\n",
            " [731 235]]\n",
            "\n",
            "\n",
            "=== Classification Report ===\n",
            "              precision    recall  f1-score   support\n",
            "\n",
            "           0       0.56      0.92      0.70      1034\n",
            "           1       0.73      0.24      0.37       966\n",
            "\n",
            "    accuracy                           0.59      2000\n",
            "   macro avg       0.65      0.58      0.53      2000\n",
            "weighted avg       0.65      0.59      0.54      2000\n",
            "\n",
            "\n",
            "\n",
            "=== All accuracy Scores ===\n",
            "[0.63718141 0.6041979  0.64564565]\n",
            "\n",
            "\n",
            "=== Mean accuracy Score ===\n",
            "Mean accuracy Score - LR:  0.629008318663491\n"
          ]
        },
        {
          "output_type": "stream",
          "name": "stderr",
          "text": [
            "/usr/local/lib/python3.7/dist-packages/sklearn/utils/validation.py:993: DataConversionWarning: A column-vector y was passed when a 1d array was expected. Please change the shape of y to (n_samples, ), for example using ravel().\n",
            "  y = column_or_1d(y, warn=True)\n",
            "/usr/local/lib/python3.7/dist-packages/sklearn/utils/validation.py:993: DataConversionWarning: A column-vector y was passed when a 1d array was expected. Please change the shape of y to (n_samples, ), for example using ravel().\n",
            "  y = column_or_1d(y, warn=True)\n",
            "/usr/local/lib/python3.7/dist-packages/sklearn/utils/validation.py:993: DataConversionWarning: A column-vector y was passed when a 1d array was expected. Please change the shape of y to (n_samples, ), for example using ravel().\n",
            "  y = column_or_1d(y, warn=True)\n",
            "/usr/local/lib/python3.7/dist-packages/sklearn/utils/validation.py:993: DataConversionWarning: A column-vector y was passed when a 1d array was expected. Please change the shape of y to (n_samples, ), for example using ravel().\n",
            "  y = column_or_1d(y, warn=True)\n"
          ]
        }
      ]
    },
    {
      "cell_type": "code",
      "source": [
        "sample_df['2_won'].value_counts()/len(sample_df)"
      ],
      "metadata": {
        "colab": {
          "base_uri": "https://localhost:8080/"
        },
        "id": "EDDsKk4CPaHb",
        "outputId": "48ba4364-3fdc-4e2a-93d2-7393f114ac75"
      },
      "execution_count": null,
      "outputs": [
        {
          "output_type": "execute_result",
          "data": {
            "text/plain": [
              "1    0.5\n",
              "0    0.5\n",
              "Name: 2_won, dtype: float64"
            ]
          },
          "metadata": {},
          "execution_count": 27
        }
      ]
    },
    {
      "cell_type": "code",
      "source": [
        "sample_out_of_bag['2_won'].value_counts()/len(sample_out_of_bag)"
      ],
      "metadata": {
        "colab": {
          "base_uri": "https://localhost:8080/"
        },
        "id": "QfivUYGxPtiM",
        "outputId": "171d5fca-9e46-461d-9749-288cb718bbbb"
      },
      "execution_count": null,
      "outputs": [
        {
          "output_type": "execute_result",
          "data": {
            "text/plain": [
              "0    0.517\n",
              "1    0.483\n",
              "Name: 2_won, dtype: float64"
            ]
          },
          "metadata": {},
          "execution_count": 28
        }
      ]
    },
    {
      "cell_type": "code",
      "source": [
        "def plot_roc_curve(fper, tper):\n",
        "    plt.plot(fper, tper, color='red', label='ROC')\n",
        "    plt.plot([0, 1], [0, 1], color='green', linestyle='--')\n",
        "    plt.xlabel('False Positive Rate')\n",
        "    plt.ylabel('True Positive Rate')\n",
        "    plt.title('Receiver Operating Characteristic Curve')\n",
        "    plt.legend()\n",
        "    plt.show()"
      ],
      "metadata": {
        "id": "WmbS67CTQA1s"
      },
      "execution_count": null,
      "outputs": []
    },
    {
      "cell_type": "code",
      "source": [
        "prob = lr.predict_proba(val_X)\n",
        "prob = prob[:, 1]\n",
        "fper, tper, thresholds = roc_curve(val_y, prob)\n",
        "plot_roc_curve(fper, tper)"
      ],
      "metadata": {
        "colab": {
          "base_uri": "https://localhost:8080/",
          "height": 295
        },
        "id": "j3mGhmtJRA46",
        "outputId": "455af62e-34d1-4c84-efda-7ceed42eb894"
      },
      "execution_count": null,
      "outputs": [
        {
          "output_type": "display_data",
          "data": {
            "text/plain": [
              "<Figure size 432x288 with 1 Axes>"
            ],
            "image/png": "[encoded data removed]"
          },
          "metadata": {
            "needs_background": "light"
          }
        }
      ]
    },
    {
      "cell_type": "code",
      "source": [
        "pred_proba_df = pd.DataFrame(lr.predict_proba(val_X))\n",
        "threshold_list = [0.05,0.1,0.15,0.2,0.25,0.3,0.35,0.4,0.45,0.5,0.55,0.6,0.65,.7,.75,.8,.85,.9,.95,.99]\n",
        "for i in threshold_list:\n",
        "    print ('\\n******** For i = {} ******'.format(i))\n",
        "    val_y_pred = pred_proba_df.applymap(lambda x: 1 if x>i else 0)\n",
        "    test_accuracy = metrics.accuracy_score(val_y.values.reshape(val_y.values.size,1),\n",
        "                                           val_y_pred.iloc[:,1].values.reshape(val_y_pred.iloc[:,1].values.size,1))\n",
        "    print('Our testing accuracy is {}'.format(test_accuracy))\n",
        "\n",
        "    print(confusion_matrix(val_y['2_won'].values.reshape(val_y['2_won'].values.size,1),\n",
        "                           val_y_pred.iloc[:,1].values.reshape(val_y_pred.iloc[:,1].values.size,1)))"
      ],
      "metadata": {
        "colab": {
          "base_uri": "https://localhost:8080/"
        },
        "id": "gtwg5LEATlIG",
        "outputId": "181296a3-2d6a-416f-9b0c-217a8d9cf868"
      },
      "execution_count": null,
      "outputs": [
        {
          "output_type": "stream",
          "name": "stdout",
          "text": [
            "\n",
            "******** For i = 0.05 ******\n",
            "Our testing accuracy is 0.5335\n",
            "[[143 891]\n",
            " [ 42 924]]\n",
            "\n",
            "******** For i = 0.1 ******\n",
            "Our testing accuracy is 0.5795\n",
            "[[322 712]\n",
            " [129 837]]\n",
            "\n",
            "******** For i = 0.15 ******\n",
            "Our testing accuracy is 0.6035\n",
            "[[454 580]\n",
            " [213 753]]\n",
            "\n",
            "******** For i = 0.2 ******\n",
            "Our testing accuracy is 0.6125\n",
            "[[589 445]\n",
            " [330 636]]\n",
            "\n",
            "******** For i = 0.25 ******\n",
            "Our testing accuracy is 0.6225\n",
            "[[694 340]\n",
            " [415 551]]\n",
            "\n",
            "******** For i = 0.3 ******\n",
            "Our testing accuracy is 0.6205\n",
            "[[766 268]\n",
            " [491 475]]\n",
            "\n",
            "******** For i = 0.35 ******\n",
            "Our testing accuracy is 0.618\n",
            "[[835 199]\n",
            " [565 401]]\n",
            "\n",
            "******** For i = 0.4 ******\n",
            "Our testing accuracy is 0.6115\n",
            "[[878 156]\n",
            " [621 345]]\n",
            "\n",
            "******** For i = 0.45 ******\n",
            "Our testing accuracy is 0.61\n",
            "[[927 107]\n",
            " [673 293]]\n",
            "\n",
            "******** For i = 0.5 ******\n",
            "Our testing accuracy is 0.592\n",
            "[[949  85]\n",
            " [731 235]]\n",
            "\n",
            "******** For i = 0.55 ******\n",
            "Our testing accuracy is 0.5795\n",
            "[[966  68]\n",
            " [773 193]]\n",
            "\n",
            "******** For i = 0.6 ******\n",
            "Our testing accuracy is 0.5715\n",
            "[[989  45]\n",
            " [812 154]]\n",
            "\n",
            "******** For i = 0.65 ******\n",
            "Our testing accuracy is 0.5635\n",
            "[[1001   33]\n",
            " [ 840  126]]\n",
            "\n",
            "******** For i = 0.7 ******\n",
            "Our testing accuracy is 0.5575\n",
            "[[1018   16]\n",
            " [ 869   97]]\n",
            "\n",
            "******** For i = 0.75 ******\n",
            "Our testing accuracy is 0.5495\n",
            "[[1024   10]\n",
            " [ 891   75]]\n",
            "\n",
            "******** For i = 0.8 ******\n",
            "Our testing accuracy is 0.537\n",
            "[[1026    8]\n",
            " [ 918   48]]\n",
            "\n",
            "******** For i = 0.85 ******\n",
            "Our testing accuracy is 0.532\n",
            "[[1030    4]\n",
            " [ 932   34]]\n",
            "\n",
            "******** For i = 0.9 ******\n",
            "Our testing accuracy is 0.5245\n",
            "[[1033    1]\n",
            " [ 950   16]]\n",
            "\n",
            "******** For i = 0.95 ******\n",
            "Our testing accuracy is 0.5205\n",
            "[[1034    0]\n",
            " [ 959    7]]\n",
            "\n",
            "******** For i = 0.99 ******\n",
            "Our testing accuracy is 0.517\n",
            "[[1034    0]\n",
            " [ 966    0]]\n"
          ]
        }
      ]
    },
    {
      "cell_type": "code",
      "source": [
        "pred_proba_df = pd.DataFrame(lr.predict_proba(val_X))"
      ],
      "metadata": {
        "id": "uCYcC1ovgRzM"
      },
      "execution_count": 21,
      "outputs": []
    },
    {
      "cell_type": "code",
      "source": [
        "max_value = max(pred_proba_df[1])\n",
        "max_index = pred_proba_df[1].to_list().index(max_value)"
      ],
      "metadata": {
        "id": "HdWV5Zwah6rq"
      },
      "execution_count": null,
      "outputs": []
    },
    {
      "cell_type": "code",
      "source": [
        "min_value = min(pred_proba_df[1])\n",
        "min_index = pred_proba_df[1].to_list().index(min_value)"
      ],
      "metadata": {
        "id": "DV9a9UgOjcof"
      },
      "execution_count": null,
      "outputs": []
    },
    {
      "cell_type": "code",
      "source": [
        "max_value"
      ],
      "metadata": {
        "colab": {
          "base_uri": "https://localhost:8080/"
        },
        "id": "OtXON26Yh7rA",
        "outputId": "6531448a-c375-465e-b908-61c871e297b2"
      },
      "execution_count": null,
      "outputs": [
        {
          "output_type": "execute_result",
          "data": {
            "text/plain": [
              "0.9856101458485946"
            ]
          },
          "metadata": {},
          "execution_count": 67
        }
      ]
    },
    {
      "cell_type": "code",
      "source": [
        "max_index"
      ],
      "metadata": {
        "colab": {
          "base_uri": "https://localhost:8080/"
        },
        "id": "3lits75yiggc",
        "outputId": "24c8ebc3-8186-4234-9ce8-c43ea14a6694"
      },
      "execution_count": null,
      "outputs": [
        {
          "output_type": "execute_result",
          "data": {
            "text/plain": [
              "1715"
            ]
          },
          "metadata": {},
          "execution_count": 68
        }
      ]
    },
    {
      "cell_type": "code",
      "source": [
        "sample_out_of_bag.iloc[1715]"
      ],
      "metadata": {
        "colab": {
          "base_uri": "https://localhost:8080/"
        },
        "id": "0AbZdYmwil_Q",
        "outputId": "cb93767e-bf21-450c-93c8-3703bde369c9"
      },
      "execution_count": null,
      "outputs": [
        {
          "output_type": "execute_result",
          "data": {
            "text/plain": [
              "2_won                              1.000000\n",
              "individual_hitpoint_diff        -125.833333\n",
              "avg_cards_level_diff               3.875000\n",
              "horde_tower_damage_diff          -88.000000\n",
              "attack_radius_diff                -5.400000\n",
              "attack_speed_diff                  0.250000\n",
              "speed_diff                         5.000000\n",
              "instant_air_damage_diff          -69.333333\n",
              "instant_tower_damage_diff        -44.000000\n",
              "individual_ground_damage_diff     -0.900000\n",
              "individual_tower_damage_diff     222.000000\n",
              "Name: 1897, dtype: float64"
            ]
          },
          "metadata": {},
          "execution_count": 69
        }
      ]
    },
    {
      "cell_type": "code",
      "source": [
        "min_value"
      ],
      "metadata": {
        "colab": {
          "base_uri": "https://localhost:8080/"
        },
        "id": "SmvSSxM9jjNH",
        "outputId": "b01d4972-eb52-424a-ed9d-95a3bac7bdd3"
      },
      "execution_count": null,
      "outputs": [
        {
          "output_type": "execute_result",
          "data": {
            "text/plain": [
              "0.0032258527819718666"
            ]
          },
          "metadata": {},
          "execution_count": 76
        }
      ]
    },
    {
      "cell_type": "code",
      "source": [
        "min_index"
      ],
      "metadata": {
        "colab": {
          "base_uri": "https://localhost:8080/"
        },
        "id": "rr0YYzrLji_8",
        "outputId": "788a6cb2-62b8-4cce-dbd2-5ef73f5bfe41"
      },
      "execution_count": null,
      "outputs": [
        {
          "output_type": "execute_result",
          "data": {
            "text/plain": [
              "127"
            ]
          },
          "metadata": {},
          "execution_count": 77
        }
      ]
    },
    {
      "cell_type": "code",
      "source": [
        "sample_out_of_bag.iloc[127]"
      ],
      "metadata": {
        "colab": {
          "base_uri": "https://localhost:8080/"
        },
        "id": "buj-aH9Njis1",
        "outputId": "7d971123-8314-47fb-c27c-cf71454449a3"
      },
      "execution_count": null,
      "outputs": [
        {
          "output_type": "execute_result",
          "data": {
            "text/plain": [
              "2_won                              0.000000\n",
              "individual_hitpoint_diff        -310.333333\n",
              "avg_cards_level_diff              -3.250000\n",
              "horde_tower_damage_diff          -13.000000\n",
              "attack_radius_diff                 1.400000\n",
              "attack_speed_diff                 -0.050000\n",
              "speed_diff                        -5.000000\n",
              "instant_air_damage_diff          247.333333\n",
              "instant_tower_damage_diff       -119.833333\n",
              "individual_ground_damage_diff      0.000000\n",
              "individual_tower_damage_diff     -49.500000\n",
              "Name: 470374, dtype: float64"
            ]
          },
          "metadata": {},
          "execution_count": 78
        }
      ]
    },
    {
      "cell_type": "code",
      "source": [
        "sample_out_of_bag.iloc[1728]"
      ],
      "metadata": {
        "colab": {
          "base_uri": "https://localhost:8080/"
        },
        "id": "QeP_l04PjLW_",
        "outputId": "13ab062f-4527-4796-e745-b44cd4769aa8"
      },
      "execution_count": 34,
      "outputs": [
        {
          "output_type": "execute_result",
          "data": {
            "text/plain": [
              "2_won                              0.000000\n",
              "individual_hitpoint_diff          38.328571\n",
              "avg_cards_level_diff              -1.375000\n",
              "horde_tower_damage_diff          162.000000\n",
              "attack_radius_diff                 0.800000\n",
              "attack_speed_diff                 -0.733333\n",
              "speed_diff                        20.000000\n",
              "instant_air_damage_diff         -159.250000\n",
              "instant_tower_damage_diff        540.114286\n",
              "individual_ground_damage_diff    111.050000\n",
              "individual_tower_damage_diff     124.600000\n",
              "Name: 668652, dtype: float64"
            ]
          },
          "metadata": {},
          "execution_count": 34
        }
      ]
    },
    {
      "cell_type": "code",
      "source": [
        "pred_proba_df.head()"
      ],
      "metadata": {
        "colab": {
          "base_uri": "https://localhost:8080/",
          "height": 1000
        },
        "id": "Kl6K0hYJiv_E",
        "outputId": "7d39bc52-d129-4bed-c165-6ec6eda35bdc"
      },
      "execution_count": 30,
      "outputs": [
        {
          "output_type": "execute_result",
          "data": {
            "text/plain": [
              "             0         1\n",
              "1700  0.631329  0.368671\n",
              "1701  0.742587  0.257413\n",
              "1702  0.812797  0.187203\n",
              "1703  0.865307  0.134693\n",
              "1704  0.857134  0.142866\n",
              "1705  0.254216  0.745784\n",
              "1706  0.310703  0.689297\n",
              "1707  0.811690  0.188310\n",
              "1708  0.699143  0.300857\n",
              "1709  0.970209  0.029791\n",
              "1710  0.977752  0.022248\n",
              "1711  0.541662  0.458338\n",
              "1712  0.789831  0.210169\n",
              "1713  0.766332  0.233668\n",
              "1714  0.811736  0.188264\n",
              "1715  0.014390  0.985610\n",
              "1716  0.580541  0.419459\n",
              "1717  0.481755  0.518245\n",
              "1718  0.772298  0.227702\n",
              "1719  0.982207  0.017793\n",
              "1720  0.720717  0.279283\n",
              "1721  0.696809  0.303191\n",
              "1722  0.916781  0.083219\n",
              "1723  0.900800  0.099200\n",
              "1724  0.438461  0.561539\n",
              "1725  0.632721  0.367279\n",
              "1726  0.741350  0.258650\n",
              "1727  0.927751  0.072249\n",
              "1728  0.949895  0.050105\n",
              "1729  0.738013  0.261987\n",
              "1730  0.669461  0.330539\n",
              "1731  0.913839  0.086161\n",
              "1732  0.663166  0.336834\n",
              "1733  0.762563  0.237437\n",
              "1734  0.979387  0.020613\n",
              "1735  0.504527  0.495473\n",
              "1736  0.990825  0.009175\n",
              "1737  0.918067  0.081933\n",
              "1738  0.877200  0.122800\n",
              "1739  0.657433  0.342567\n",
              "1740  0.704594  0.295406\n",
              "1741  0.840849  0.159151\n",
              "1742  0.865777  0.134223\n",
              "1743  0.700243  0.299757\n",
              "1744  0.938297  0.061703\n",
              "1745  0.765653  0.234347\n",
              "1746  0.810899  0.189101\n",
              "1747  0.350950  0.649050\n",
              "1748  0.424895  0.575105\n",
              "1749  0.849550  0.150450"
            ],
            "text/html": [
              "\n",
              "  <div id=\"df-ac4284a3-b47c-467b-a8af-a01d679e2e11\">\n",
              "    <div class=\"colab-df-container\">\n",
              "      <div>\n",
              "<style scoped>\n",
              "    .dataframe tbody tr th:only-of-type {\n",
              "        vertical-align: middle;\n",
              "    }\n",
              "\n",
              "    .dataframe tbody tr th {\n",
              "        vertical-align: top;\n",
              "    }\n",
              "\n",
              "    .dataframe thead th {\n",
              "        text-align: right;\n",
              "    }\n",
              "</style>\n",
              "<table border=\"1\" class=\"dataframe\">\n",
              "  <thead>\n",
              "    <tr style=\"text-align: right;\">\n",
              "      <th></th>\n",
              "      <th>0</th>\n",
              "      <th>1</th>\n",
              "    </tr>\n",
              "  </thead>\n",
              "  <tbody>\n",
              "    <tr>\n",
              "      <th>1700</th>\n",
              "      <td>0.631329</td>\n",
              "      <td>0.368671</td>\n",
              "    </tr>\n",
              "    <tr>\n",
              "      <th>1701</th>\n",
              "      <td>0.742587</td>\n",
              "      <td>0.257413</td>\n",
              "    </tr>\n",
              "    <tr>\n",
              "      <th>1702</th>\n",
              "      <td>0.812797</td>\n",
              "      <td>0.187203</td>\n",
              "    </tr>\n",
              "    <tr>\n",
              "      <th>1703</th>\n",
              "      <td>0.865307</td>\n",
              "      <td>0.134693</td>\n",
              "    </tr>\n",
              "    <tr>\n",
              "      <th>1704</th>\n",
              "      <td>0.857134</td>\n",
              "      <td>0.142866</td>\n",
              "    </tr>\n",
              "    <tr>\n",
              "      <th>1705</th>\n",
              "      <td>0.254216</td>\n",
              "      <td>0.745784</td>\n",
              "    </tr>\n",
              "    <tr>\n",
              "      <th>1706</th>\n",
              "      <td>0.310703</td>\n",
              "      <td>0.689297</td>\n",
              "    </tr>\n",
              "    <tr>\n",
              "      <th>1707</th>\n",
              "      <td>0.811690</td>\n",
              "      <td>0.188310</td>\n",
              "    </tr>\n",
              "    <tr>\n",
              "      <th>1708</th>\n",
              "      <td>0.699143</td>\n",
              "      <td>0.300857</td>\n",
              "    </tr>\n",
              "    <tr>\n",
              "      <th>1709</th>\n",
              "      <td>0.970209</td>\n",
              "      <td>0.029791</td>\n",
              "    </tr>\n",
              "    <tr>\n",
              "      <th>1710</th>\n",
              "      <td>0.977752</td>\n",
              "      <td>0.022248</td>\n",
              "    </tr>\n",
              "    <tr>\n",
              "      <th>1711</th>\n",
              "      <td>0.541662</td>\n",
              "      <td>0.458338</td>\n",
              "    </tr>\n",
              "    <tr>\n",
              "      <th>1712</th>\n",
              "      <td>0.789831</td>\n",
              "      <td>0.210169</td>\n",
              "    </tr>\n",
              "    <tr>\n",
              "      <th>1713</th>\n",
              "      <td>0.766332</td>\n",
              "      <td>0.233668</td>\n",
              "    </tr>\n",
              "    <tr>\n",
              "      <th>1714</th>\n",
              "      <td>0.811736</td>\n",
              "      <td>0.188264</td>\n",
              "    </tr>\n",
              "    <tr>\n",
              "      <th>1715</th>\n",
              "      <td>0.014390</td>\n",
              "      <td>0.985610</td>\n",
              "    </tr>\n",
              "    <tr>\n",
              "      <th>1716</th>\n",
              "      <td>0.580541</td>\n",
              "      <td>0.419459</td>\n",
              "    </tr>\n",
              "    <tr>\n",
              "      <th>1717</th>\n",
              "      <td>0.481755</td>\n",
              "      <td>0.518245</td>\n",
              "    </tr>\n",
              "    <tr>\n",
              "      <th>1718</th>\n",
              "      <td>0.772298</td>\n",
              "      <td>0.227702</td>\n",
              "    </tr>\n",
              "    <tr>\n",
              "      <th>1719</th>\n",
              "      <td>0.982207</td>\n",
              "      <td>0.017793</td>\n",
              "    </tr>\n",
              "    <tr>\n",
              "      <th>1720</th>\n",
              "      <td>0.720717</td>\n",
              "      <td>0.279283</td>\n",
              "    </tr>\n",
              "    <tr>\n",
              "      <th>1721</th>\n",
              "      <td>0.696809</td>\n",
              "      <td>0.303191</td>\n",
              "    </tr>\n",
              "    <tr>\n",
              "      <th>1722</th>\n",
              "      <td>0.916781</td>\n",
              "      <td>0.083219</td>\n",
              "    </tr>\n",
              "    <tr>\n",
              "      <th>1723</th>\n",
              "      <td>0.900800</td>\n",
              "      <td>0.099200</td>\n",
              "    </tr>\n",
              "    <tr>\n",
              "      <th>1724</th>\n",
              "      <td>0.438461</td>\n",
              "      <td>0.561539</td>\n",
              "    </tr>\n",
              "    <tr>\n",
              "      <th>1725</th>\n",
              "      <td>0.632721</td>\n",
              "      <td>0.367279</td>\n",
              "    </tr>\n",
              "    <tr>\n",
              "      <th>1726</th>\n",
              "      <td>0.741350</td>\n",
              "      <td>0.258650</td>\n",
              "    </tr>\n",
              "    <tr>\n",
              "      <th>1727</th>\n",
              "      <td>0.927751</td>\n",
              "      <td>0.072249</td>\n",
              "    </tr>\n",
              "    <tr>\n",
              "      <th>1728</th>\n",
              "      <td>0.949895</td>\n",
              "      <td>0.050105</td>\n",
              "    </tr>\n",
              "    <tr>\n",
              "      <th>1729</th>\n",
              "      <td>0.738013</td>\n",
              "      <td>0.261987</td>\n",
              "    </tr>\n",
              "    <tr>\n",
              "      <th>1730</th>\n",
              "      <td>0.669461</td>\n",
              "      <td>0.330539</td>\n",
              "    </tr>\n",
              "    <tr>\n",
              "      <th>1731</th>\n",
              "      <td>0.913839</td>\n",
              "      <td>0.086161</td>\n",
              "    </tr>\n",
              "    <tr>\n",
              "      <th>1732</th>\n",
              "      <td>0.663166</td>\n",
              "      <td>0.336834</td>\n",
              "    </tr>\n",
              "    <tr>\n",
              "      <th>1733</th>\n",
              "      <td>0.762563</td>\n",
              "      <td>0.237437</td>\n",
              "    </tr>\n",
              "    <tr>\n",
              "      <th>1734</th>\n",
              "      <td>0.979387</td>\n",
              "      <td>0.020613</td>\n",
              "    </tr>\n",
              "    <tr>\n",
              "      <th>1735</th>\n",
              "      <td>0.504527</td>\n",
              "      <td>0.495473</td>\n",
              "    </tr>\n",
              "    <tr>\n",
              "      <th>1736</th>\n",
              "      <td>0.990825</td>\n",
              "      <td>0.009175</td>\n",
              "    </tr>\n",
              "    <tr>\n",
              "      <th>1737</th>\n",
              "      <td>0.918067</td>\n",
              "      <td>0.081933</td>\n",
              "    </tr>\n",
              "    <tr>\n",
              "      <th>1738</th>\n",
              "      <td>0.877200</td>\n",
              "      <td>0.122800</td>\n",
              "    </tr>\n",
              "    <tr>\n",
              "      <th>1739</th>\n",
              "      <td>0.657433</td>\n",
              "      <td>0.342567</td>\n",
              "    </tr>\n",
              "    <tr>\n",
              "      <th>1740</th>\n",
              "      <td>0.704594</td>\n",
              "      <td>0.295406</td>\n",
              "    </tr>\n",
              "    <tr>\n",
              "      <th>1741</th>\n",
              "      <td>0.840849</td>\n",
              "      <td>0.159151</td>\n",
              "    </tr>\n",
              "    <tr>\n",
              "      <th>1742</th>\n",
              "      <td>0.865777</td>\n",
              "      <td>0.134223</td>\n",
              "    </tr>\n",
              "    <tr>\n",
              "      <th>1743</th>\n",
              "      <td>0.700243</td>\n",
              "      <td>0.299757</td>\n",
              "    </tr>\n",
              "    <tr>\n",
              "      <th>1744</th>\n",
              "      <td>0.938297</td>\n",
              "      <td>0.061703</td>\n",
              "    </tr>\n",
              "    <tr>\n",
              "      <th>1745</th>\n",
              "      <td>0.765653</td>\n",
              "      <td>0.234347</td>\n",
              "    </tr>\n",
              "    <tr>\n",
              "      <th>1746</th>\n",
              "      <td>0.810899</td>\n",
              "      <td>0.189101</td>\n",
              "    </tr>\n",
              "    <tr>\n",
              "      <th>1747</th>\n",
              "      <td>0.350950</td>\n",
              "      <td>0.649050</td>\n",
              "    </tr>\n",
              "    <tr>\n",
              "      <th>1748</th>\n",
              "      <td>0.424895</td>\n",
              "      <td>0.575105</td>\n",
              "    </tr>\n",
              "    <tr>\n",
              "      <th>1749</th>\n",
              "      <td>0.849550</td>\n",
              "      <td>0.150450</td>\n",
              "    </tr>\n",
              "  </tbody>\n",
              "</table>\n",
              "</div>\n",
              "      <button class=\"colab-df-convert\" onclick=\"convertToInteractive('df-ac4284a3-b47c-467b-a8af-a01d679e2e11')\"\n",
              "              title=\"Convert this dataframe to an interactive table.\"\n",
              "              style=\"display:none;\">\n",
              "        \n",
              "  <svg xmlns=\"http://www.w3.org/2000/svg\" height=\"24px\"viewBox=\"0 0 24 24\"\n",
              "       width=\"24px\">\n",
              "    <path d=\"M0 0h24v24H0V0z\" fill=\"none\"/>\n",
              "    <path d=\"M18.56 5.44l.94 2.06.94-2.06 2.06-.94-2.06-.94-.94-2.06-.94 2.06-2.06.94zm-11 1L8.5 8.5l.94-2.06 2.06-.94-2.06-.94L8.5 2.5l-.94 2.06-2.06.94zm10 10l.94 2.06.94-2.06 2.06-.94-2.06-.94-.94-2.06-.94 2.06-2.06.94z\"/><path d=\"M17.41 7.96l-1.37-1.37c-.4-.4-.92-.59-1.43-.59-.52 0-1.04.2-1.43.59L10.3 9.45l-7.72 7.72c-.78.78-.78 2.05 0 2.83L4 21.41c.39.39.9.59 1.41.59.51 0 1.02-.2 1.41-.59l7.78-7.78 2.81-2.81c.8-.78.8-2.07 0-2.86zM5.41 20L4 18.59l7.72-7.72 1.47 1.35L5.41 20z\"/>\n",
              "  </svg>\n",
              "      </button>\n",
              "      \n",
              "  <style>\n",
              "    .colab-df-container {\n",
              "      display:flex;\n",
              "      flex-wrap:wrap;\n",
              "      gap: 12px;\n",
              "    }\n",
              "\n",
              "    .colab-df-convert {\n",
              "      background-color: #E8F0FE;\n",
              "      border: none;\n",
              "      border-radius: 50%;\n",
              "      cursor: pointer;\n",
              "      display: none;\n",
              "      fill: #1967D2;\n",
              "      height: 32px;\n",
              "      padding: 0 0 0 0;\n",
              "      width: 32px;\n",
              "    }\n",
              "\n",
              "    .colab-df-convert:hover {\n",
              "      background-color: #E2EBFA;\n",
              "      box-shadow: 0px 1px 2px rgba(60, 64, 67, 0.3), 0px 1px 3px 1px rgba(60, 64, 67, 0.15);\n",
              "      fill: #174EA6;\n",
              "    }\n",
              "\n",
              "    [theme=dark] .colab-df-convert {\n",
              "      background-color: #3B4455;\n",
              "      fill: #D2E3FC;\n",
              "    }\n",
              "\n",
              "    [theme=dark] .colab-df-convert:hover {\n",
              "      background-color: #434B5C;\n",
              "      box-shadow: 0px 1px 3px 1px rgba(0, 0, 0, 0.15);\n",
              "      filter: drop-shadow(0px 1px 2px rgba(0, 0, 0, 0.3));\n",
              "      fill: #FFFFFF;\n",
              "    }\n",
              "  </style>\n",
              "\n",
              "      <script>\n",
              "        const buttonEl =\n",
              "          document.querySelector('#df-ac4284a3-b47c-467b-a8af-a01d679e2e11 button.colab-df-convert');\n",
              "        buttonEl.style.display =\n",
              "          google.colab.kernel.accessAllowed ? 'block' : 'none';\n",
              "\n",
              "        async function convertToInteractive(key) {\n",
              "          const element = document.querySelector('#df-ac4284a3-b47c-467b-a8af-a01d679e2e11');\n",
              "          const dataTable =\n",
              "            await google.colab.kernel.invokeFunction('convertToInteractive',\n",
              "                                                     [key], {});\n",
              "          if (!dataTable) return;\n",
              "\n",
              "          const docLinkHtml = 'Like what you see? Visit the ' +\n",
              "            '<a target=\"_blank\" href=https://colab.research.google.com/notebooks/data_table.ipynb>data table notebook</a>'\n",
              "            + ' to learn more about interactive tables.';\n",
              "          element.innerHTML = '';\n",
              "          dataTable['output_type'] = 'display_data';\n",
              "          await google.colab.output.renderOutput(dataTable, element);\n",
              "          const docLink = document.createElement('div');\n",
              "          docLink.innerHTML = docLinkHtml;\n",
              "          element.appendChild(docLink);\n",
              "        }\n",
              "      </script>\n",
              "    </div>\n",
              "  </div>\n",
              "  "
            ]
          },
          "metadata": {},
          "execution_count": 30
        }
      ]
    },
    {
      "cell_type": "code",
      "source": [
        ""
      ],
      "metadata": {
        "id": "i2V8AUh5jFA_"
      },
      "execution_count": null,
      "outputs": []
    }
  ]
}